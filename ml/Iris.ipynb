{
 "cells": [
  {
   "cell_type": "code",
   "execution_count": 1,
   "metadata": {},
   "outputs": [],
   "source": [
    "import turicreate as tc"
   ]
  },
  {
   "cell_type": "markdown",
   "metadata": {},
   "source": [
    "# Load train and test data"
   ]
  },
  {
   "cell_type": "code",
   "execution_count": 2,
   "metadata": {},
   "outputs": [
    {
     "data": {
      "text/html": [
       "<pre>Finished parsing file /Users/jt/Workspace/ml/Iris_train.csv</pre>"
      ],
      "text/plain": [
       "Finished parsing file /Users/jt/Workspace/ml/Iris_train.csv"
      ]
     },
     "metadata": {},
     "output_type": "display_data"
    },
    {
     "data": {
      "text/html": [
       "<pre>Parsing completed. Parsed 100 lines in 0.037297 secs.</pre>"
      ],
      "text/plain": [
       "Parsing completed. Parsed 100 lines in 0.037297 secs."
      ]
     },
     "metadata": {},
     "output_type": "display_data"
    },
    {
     "name": "stdout",
     "output_type": "stream",
     "text": [
      "------------------------------------------------------\n",
      "Inferred types from first 100 line(s) of file as \n",
      "column_type_hints=[float,float,float,float,str]\n",
      "If parsing fails due to incorrect types, you can correct\n",
      "the inferred type list above and pass it to read_csv in\n",
      "the column_type_hints argument\n",
      "------------------------------------------------------\n"
     ]
    },
    {
     "data": {
      "text/html": [
       "<pre>Finished parsing file /Users/jt/Workspace/ml/Iris_train.csv</pre>"
      ],
      "text/plain": [
       "Finished parsing file /Users/jt/Workspace/ml/Iris_train.csv"
      ]
     },
     "metadata": {},
     "output_type": "display_data"
    },
    {
     "data": {
      "text/html": [
       "<pre>Parsing completed. Parsed 147 lines in 0.013297 secs.</pre>"
      ],
      "text/plain": [
       "Parsing completed. Parsed 147 lines in 0.013297 secs."
      ]
     },
     "metadata": {},
     "output_type": "display_data"
    },
    {
     "data": {
      "text/html": [
       "<pre>Materializing SFrame...</pre>"
      ],
      "text/plain": [
       "Materializing SFrame..."
      ]
     },
     "metadata": {},
     "output_type": "display_data"
    },
    {
     "data": {
      "text/html": [
       "<pre>Done.</pre>"
      ],
      "text/plain": [
       "Done."
      ]
     },
     "metadata": {},
     "output_type": "display_data"
    },
    {
     "data": {
      "text/html": [
       "<html>                 <body>                     <iframe style=\"border:0;margin:0\" width=\"1000\" height=\"1800\" srcdoc='<html lang=\"en\">                         <head>                             <script src=\"https://cdnjs.cloudflare.com/ajax/libs/vega/3.0.8/vega.js\"></script>                             <script src=\"https://cdnjs.cloudflare.com/ajax/libs/vega-embed/3.0.0-rc7/vega-embed.js\"></script>                             <script src=\"https://cdnjs.cloudflare.com/ajax/libs/vega-tooltip/0.5.1/vega-tooltip.min.js\"></script>                             <link rel=\"stylesheet\" type=\"text/css\" href=\"https://cdnjs.cloudflare.com/ajax/libs/vega-tooltip/0.5.1/vega-tooltip.min.css\">                             <style>                             .vega-actions > a{                                 color:white;                                 text-decoration: none;                                 font-family: \"Arial\";                                 cursor:pointer;                                 padding:5px;                                 background:#AAAAAA;                                 border-radius:4px;                                 padding-left:10px;                                 padding-right:10px;                                 margin-right:5px;                             }                             .vega-actions{                                 margin-top:20px;                                 text-align:center                             }                            .vega-actions > a{                                 background:#999999;                            }                             </style>                         </head>                         <body>                             <div id=\"vis\">                             </div>                             <script>                                 var vega_json = \"{\\\"config\\\": {\\\"style\\\": {\\\"rect\\\": {\\\"stroke\\\": \\\"rgba(200, 200, 200, 0.5)\\\"}, \\\"group-title\\\": {\\\"fontWeight\\\": \\\"normal\\\", \\\"font\\\": \\\"HelveticaNeue-Light, Arial\\\", \\\"fontSize\\\": 20, \\\"fill\\\": \\\"#595959\\\"}}, \\\"axisY\\\": {\\\"minExtent\\\": 30}, \\\"axis\\\": {\\\"titlePadding\\\": 9, \\\"labelPadding\\\": 10, \\\"labelFont\\\": \\\"HelveticaNeue-Light, Arial\\\", \\\"labelFontSize\\\": 7, \\\"labelColor\\\": \\\"#595959\\\", \\\"titleFont\\\": \\\"HelveticaNeue-Light, Arial\\\", \\\"titleFontSize\\\": 12, \\\"titleColor\\\": \\\"#595959\\\", \\\"titleFontWeight\\\": \\\"normal\\\"}}, \\\"height\\\": 1580, \\\"padding\\\": 0, \\\"width\\\": 800, \\\"marks\\\": [{\\\"encode\\\": {\\\"enter\\\": {\\\"strokeWidth\\\": {\\\"value\\\": 0}, \\\"clip\\\": {\\\"value\\\": 0}, \\\"height\\\": {\\\"value\\\": 366}, \\\"width\\\": {\\\"value\\\": 734}, \\\"stroke\\\": {\\\"value\\\": \\\"#000000\\\"}, \\\"fillOpacity\\\": {\\\"value\\\": 0}, \\\"y\\\": {\\\"value\\\": 0}, \\\"x\\\": {\\\"value\\\": 0}, \\\"fill\\\": {\\\"value\\\": \\\"#ffffff\\\"}}}, \\\"type\\\": \\\"group\\\", \\\"marks\\\": [{\\\"encode\\\": {\\\"enter\\\": {\\\"strokeWidth\\\": {\\\"value\\\": 0}, \\\"clip\\\": {\\\"value\\\": 0}, \\\"height\\\": {\\\"value\\\": 366}, \\\"width\\\": {\\\"value\\\": 734}, \\\"stroke\\\": {\\\"value\\\": \\\"#000000\\\"}, \\\"fillOpacity\\\": {\\\"value\\\": 0}, \\\"y\\\": {\\\"value\\\": 0}, \\\"x\\\": {\\\"value\\\": 0}, \\\"fill\\\": {\\\"value\\\": \\\"#ffffff\\\"}}}, \\\"marks\\\": [{\\\"encode\\\": {\\\"update\\\": {\\\"y\\\": {\\\"field\\\": \\\"c_main_background\\\"}, \\\"x\\\": {\\\"signal\\\": \\\"datum[\\\\\\\"c_x_axis_back\\\\\\\"]\\\"}}, \\\"enter\\\": {\\\"strokeWidth\\\": {\\\"value\\\": 0.5}, \\\"height\\\": {\\\"value\\\": 250}, \\\"width\\\": {\\\"value\\\": 700}, \\\"stroke\\\": {\\\"value\\\": \\\"#DEDEDE\\\"}, \\\"fillOpacity\\\": {\\\"value\\\": 1}, \\\"y\\\": {\\\"value\\\": 66}, \\\"x\\\": {\\\"value\\\": 33}, \\\"fill\\\": {\\\"value\\\": \\\"#FEFEFE\\\"}}}, \\\"type\\\": \\\"rect\\\", \\\"from\\\": {\\\"data\\\": \\\"data_2\\\"}}, {\\\"encode\\\": {\\\"update\\\": {\\\"y\\\": {\\\"field\\\": \\\"c_top_bar\\\"}, \\\"x\\\": {\\\"signal\\\": \\\"datum[\\\\\\\"c_x_axis_back\\\\\\\"]\\\"}}, \\\"enter\\\": {\\\"strokeWidth\\\": {\\\"value\\\": 0.5}, \\\"height\\\": {\\\"value\\\": 30}, \\\"width\\\": {\\\"value\\\": 700}, \\\"stroke\\\": {\\\"value\\\": \\\"#DEDEDE\\\"}, \\\"fillOpacity\\\": {\\\"value\\\": 1}, \\\"y\\\": {\\\"value\\\": 43}, \\\"x\\\": {\\\"value\\\": 33}, \\\"fill\\\": {\\\"value\\\": \\\"#F5F5F5\\\"}}}, \\\"type\\\": \\\"rect\\\", \\\"from\\\": {\\\"data\\\": \\\"data_2\\\"}}, {\\\"encode\\\": {\\\"update\\\": {\\\"y\\\": {\\\"field\\\": \\\"c_top_type\\\"}, \\\"x\\\": {\\\"signal\\\": \\\"datum[\\\\\\\"c_x_axis_back\\\\\\\"]+687\\\"}}, \\\"enter\\\": {\\\"fontStyle\\\": {\\\"value\\\": \\\"normal\\\"}, \\\"angle\\\": {\\\"value\\\": 0}, \\\"baseline\\\": {\\\"value\\\": \\\"middle\\\"}, \\\"text\\\": {\\\"signal\\\": \\\"&apos;&apos;+datum[\\\\\\\"type\\\\\\\"]\\\"}, \\\"align\\\": {\\\"value\\\": \\\"right\\\"}, \\\"fontWeight\\\": {\\\"value\\\": \\\"normal\\\"}, \\\"fontSize\\\": {\\\"value\\\": 12}, \\\"dx\\\": {\\\"value\\\": 0, \\\"offset\\\": 0}, \\\"dy\\\": {\\\"value\\\": 0, \\\"offset\\\": 0}, \\\"y\\\": {\\\"value\\\": 58}, \\\"x\\\": {\\\"value\\\": 720}, \\\"font\\\": {\\\"value\\\": \\\"AvenirNext-Medium\\\"}, \\\"fill\\\": {\\\"value\\\": \\\"#595859\\\"}}}, \\\"type\\\": \\\"text\\\", \\\"from\\\": {\\\"data\\\": \\\"data_2\\\"}}, {\\\"encode\\\": {\\\"update\\\": {\\\"y\\\": {\\\"field\\\": \\\"c_top_title\\\"}, \\\"x\\\": {\\\"signal\\\": \\\"datum[\\\\\\\"c_x_axis_back\\\\\\\"]+11\\\"}}, \\\"enter\\\": {\\\"fontStyle\\\": {\\\"value\\\": \\\"normal\\\"}, \\\"angle\\\": {\\\"value\\\": 0}, \\\"baseline\\\": {\\\"value\\\": \\\"middle\\\"}, \\\"text\\\": {\\\"signal\\\": \\\"&apos;&apos;+datum[\\\\\\\"title\\\\\\\"]\\\"}, \\\"align\\\": {\\\"value\\\": \\\"left\\\"}, \\\"fontWeight\\\": {\\\"value\\\": \\\"normal\\\"}, \\\"fontSize\\\": {\\\"value\\\": 15}, \\\"dx\\\": {\\\"value\\\": 0, \\\"offset\\\": 0}, \\\"dy\\\": {\\\"value\\\": 0, \\\"offset\\\": 0}, \\\"y\\\": {\\\"value\\\": 59}, \\\"x\\\": {\\\"value\\\": 44}, \\\"font\\\": {\\\"value\\\": \\\"AvenirNext-Medium\\\"}, \\\"fill\\\": {\\\"value\\\": \\\"#9B9B9B\\\"}}}, \\\"type\\\": \\\"text\\\", \\\"from\\\": {\\\"data\\\": \\\"data_2\\\"}}, {\\\"encode\\\": {\\\"update\\\": {\\\"x2\\\": {\\\"signal\\\": \\\"datum[\\\\\\\"c_x_axis_back\\\\\\\"]+687\\\"}, \\\"x\\\": {\\\"signal\\\": \\\"datum[\\\\\\\"c_x_axis_back\\\\\\\"]+467\\\"}, \\\"y2\\\": {\\\"field\\\": \\\"c_rule\\\"}, \\\"y\\\": {\\\"field\\\": \\\"c_rule\\\"}}, \\\"enter\\\": {\\\"strokeWidth\\\": {\\\"value\\\": 1}, \\\"strokeCap\\\": {\\\"value\\\": \\\"butt\\\"}, \\\"x2\\\": {\\\"value\\\": 720}, \\\"stroke\\\": {\\\"value\\\": \\\"#EDEDEB\\\"}, \\\"y\\\": {\\\"value\\\": 178}, \\\"x\\\": {\\\"value\\\": 500}, \\\"y2\\\": {\\\"value\\\": 178}}}, \\\"type\\\": \\\"rule\\\", \\\"from\\\": {\\\"data\\\": \\\"data_2\\\"}}, {\\\"encode\\\": {\\\"update\\\": {\\\"y\\\": {\\\"field\\\": \\\"c_num_rows\\\"}, \\\"x\\\": {\\\"signal\\\": \\\"datum[\\\\\\\"c_x_axis_back\\\\\\\"]+467\\\"}}, \\\"enter\\\": {\\\"fontStyle\\\": {\\\"value\\\": \\\"normal\\\"}, \\\"angle\\\": {\\\"value\\\": 0}, \\\"baseline\\\": {\\\"value\\\": \\\"middle\\\"}, \\\"text\\\": {\\\"value\\\": \\\"Num. Rows:\\\"}, \\\"align\\\": {\\\"value\\\": \\\"left\\\"}, \\\"fontWeight\\\": {\\\"value\\\": \\\"normal\\\"}, \\\"fontSize\\\": {\\\"value\\\": 12}, \\\"dx\\\": {\\\"value\\\": 0, \\\"offset\\\": 0}, \\\"dy\\\": {\\\"value\\\": 0, \\\"offset\\\": 0}, \\\"y\\\": {\\\"value\\\": 106}, \\\"x\\\": {\\\"value\\\": 500}, \\\"font\\\": {\\\"value\\\": \\\"AvenirNext-Medium\\\"}, \\\"fill\\\": {\\\"value\\\": \\\"#4A4A4A\\\"}}}, \\\"type\\\": \\\"text\\\", \\\"from\\\": {\\\"data\\\": \\\"data_2\\\"}}, {\\\"encode\\\": {\\\"update\\\": {\\\"y\\\": {\\\"field\\\": \\\"c_num_unique\\\"}, \\\"x\\\": {\\\"signal\\\": \\\"datum[\\\\\\\"c_x_axis_back\\\\\\\"]+467\\\"}}, \\\"enter\\\": {\\\"fontStyle\\\": {\\\"value\\\": \\\"normal\\\"}, \\\"angle\\\": {\\\"value\\\": 0}, \\\"baseline\\\": {\\\"value\\\": \\\"middle\\\"}, \\\"text\\\": {\\\"value\\\": \\\"Num. Unique:\\\"}, \\\"align\\\": {\\\"value\\\": \\\"left\\\"}, \\\"fontWeight\\\": {\\\"value\\\": \\\"normal\\\"}, \\\"fontSize\\\": {\\\"value\\\": 12}, \\\"dx\\\": {\\\"value\\\": 0, \\\"offset\\\": 0}, \\\"dy\\\": {\\\"value\\\": 0, \\\"offset\\\": 0}, \\\"y\\\": {\\\"value\\\": 130}, \\\"x\\\": {\\\"value\\\": 500}, \\\"font\\\": {\\\"value\\\": \\\"AvenirNext-Medium\\\"}, \\\"fill\\\": {\\\"value\\\": \\\"#4A4A4A\\\"}}}, \\\"type\\\": \\\"text\\\", \\\"from\\\": {\\\"data\\\": \\\"data_2\\\"}}, {\\\"encode\\\": {\\\"update\\\": {\\\"y\\\": {\\\"field\\\": \\\"c_missing\\\"}, \\\"x\\\": {\\\"signal\\\": \\\"datum[\\\\\\\"c_x_axis_back\\\\\\\"]+467\\\"}}, \\\"enter\\\": {\\\"fontStyle\\\": {\\\"value\\\": \\\"normal\\\"}, \\\"angle\\\": {\\\"value\\\": 0}, \\\"baseline\\\": {\\\"value\\\": \\\"middle\\\"}, \\\"text\\\": {\\\"value\\\": \\\"Missing:\\\"}, \\\"align\\\": {\\\"value\\\": \\\"left\\\"}, \\\"fontWeight\\\": {\\\"value\\\": \\\"normal\\\"}, \\\"fontSize\\\": {\\\"value\\\": 12}, \\\"dx\\\": {\\\"value\\\": 0, \\\"offset\\\": 0}, \\\"dy\\\": {\\\"value\\\": 0, \\\"offset\\\": 0}, \\\"y\\\": {\\\"value\\\": 154}, \\\"x\\\": {\\\"value\\\": 500}, \\\"font\\\": {\\\"value\\\": \\\"AvenirNext-Medium\\\"}, \\\"fill\\\": {\\\"value\\\": \\\"#4A4A4A\\\"}}}, \\\"type\\\": \\\"text\\\", \\\"from\\\": {\\\"data\\\": \\\"data_2\\\"}}, {\\\"encode\\\": {\\\"update\\\": {\\\"y\\\": {\\\"field\\\": \\\"c_num_rows_val\\\"}, \\\"x\\\": {\\\"signal\\\": \\\"datum[\\\\\\\"c_x_axis_back\\\\\\\"]+667\\\"}}, \\\"enter\\\": {\\\"fontStyle\\\": {\\\"value\\\": \\\"normal\\\"}, \\\"angle\\\": {\\\"value\\\": 0}, \\\"baseline\\\": {\\\"value\\\": \\\"middle\\\"}, \\\"text\\\": {\\\"signal\\\": \\\"toString(format(datum[\\\\\\\"num_row\\\\\\\"], \\\\\\\",\\\\\\\"))\\\"}, \\\"align\\\": {\\\"value\\\": \\\"right\\\"}, \\\"fontWeight\\\": {\\\"value\\\": \\\"normal\\\"}, \\\"fontSize\\\": {\\\"value\\\": 12}, \\\"dx\\\": {\\\"value\\\": 0, \\\"offset\\\": 0}, \\\"dy\\\": {\\\"value\\\": 0, \\\"offset\\\": 0}, \\\"y\\\": {\\\"value\\\": 105}, \\\"x\\\": {\\\"value\\\": 700}, \\\"font\\\": {\\\"value\\\": \\\"AvenirNext-Medium\\\"}, \\\"fill\\\": {\\\"value\\\": \\\"#5A5A5A\\\"}}}, \\\"type\\\": \\\"text\\\", \\\"from\\\": {\\\"data\\\": \\\"data_2\\\"}}, {\\\"encode\\\": {\\\"update\\\": {\\\"y\\\": {\\\"field\\\": \\\"c_num_unique_val\\\"}, \\\"x\\\": {\\\"signal\\\": \\\"datum[\\\\\\\"c_x_axis_back\\\\\\\"]+667\\\"}}, \\\"enter\\\": {\\\"fontStyle\\\": {\\\"value\\\": \\\"normal\\\"}, \\\"angle\\\": {\\\"value\\\": 0}, \\\"baseline\\\": {\\\"value\\\": \\\"middle\\\"}, \\\"text\\\": {\\\"signal\\\": \\\"toString(format(datum[\\\\\\\"num_unique\\\\\\\"], \\\\\\\",\\\\\\\"))\\\"}, \\\"align\\\": {\\\"value\\\": \\\"right\\\"}, \\\"fontWeight\\\": {\\\"value\\\": \\\"normal\\\"}, \\\"fontSize\\\": {\\\"value\\\": 12}, \\\"dx\\\": {\\\"value\\\": 0, \\\"offset\\\": 0}, \\\"dy\\\": {\\\"value\\\": 0, \\\"offset\\\": 0}, \\\"y\\\": {\\\"value\\\": 130}, \\\"x\\\": {\\\"value\\\": 700}, \\\"font\\\": {\\\"value\\\": \\\"AvenirNext-Medium\\\"}, \\\"fill\\\": {\\\"value\\\": \\\"#5A5A5A\\\"}}}, \\\"type\\\": \\\"text\\\", \\\"from\\\": {\\\"data\\\": \\\"data_2\\\"}}, {\\\"encode\\\": {\\\"update\\\": {\\\"y\\\": {\\\"field\\\": \\\"c_missing_val\\\"}, \\\"x\\\": {\\\"signal\\\": \\\"datum[\\\\\\\"c_x_axis_back\\\\\\\"]+667\\\"}}, \\\"enter\\\": {\\\"fontStyle\\\": {\\\"value\\\": \\\"normal\\\"}, \\\"angle\\\": {\\\"value\\\": 0}, \\\"baseline\\\": {\\\"value\\\": \\\"middle\\\"}, \\\"text\\\": {\\\"signal\\\": \\\"toString(format(datum[\\\\\\\"num_missing\\\\\\\"], \\\\\\\",\\\\\\\"))\\\"}, \\\"align\\\": {\\\"value\\\": \\\"right\\\"}, \\\"fontWeight\\\": {\\\"value\\\": \\\"normal\\\"}, \\\"fontSize\\\": {\\\"value\\\": 12}, \\\"dx\\\": {\\\"value\\\": 0, \\\"offset\\\": 0}, \\\"dy\\\": {\\\"value\\\": 0, \\\"offset\\\": 0}, \\\"y\\\": {\\\"value\\\": 154}, \\\"x\\\": {\\\"value\\\": 700}, \\\"font\\\": {\\\"value\\\": \\\"AvenirNext-Medium\\\"}, \\\"fill\\\": {\\\"value\\\": \\\"#5A5A5A\\\"}}}, \\\"type\\\": \\\"text\\\", \\\"from\\\": {\\\"data\\\": \\\"data_2\\\"}}, {\\\"encode\\\": {\\\"update\\\": {\\\"y\\\": {\\\"field\\\": \\\"c_frequent_items\\\"}, \\\"x\\\": {\\\"signal\\\": \\\"datum[\\\\\\\"c_x_axis_back\\\\\\\"]+467\\\"}}, \\\"enter\\\": {\\\"fontStyle\\\": {\\\"value\\\": \\\"normal\\\"}, \\\"angle\\\": {\\\"value\\\": 0}, \\\"baseline\\\": {\\\"value\\\": \\\"middle\\\"}, \\\"clip\\\": {\\\"value\\\": true}, \\\"text\\\": {\\\"signal\\\": \\\"(toString(datum[\\\\\\\"type\\\\\\\"]) == \\\\\\\"str\\\\\\\")? \\\\\\\"Frequent Items\\\\\\\":\\\\\\\"\\\\\\\"\\\"}, \\\"align\\\": {\\\"value\\\": \\\"left\\\"}, \\\"fontWeight\\\": {\\\"value\\\": \\\"bold\\\"}, \\\"fontSize\\\": {\\\"value\\\": 11}, \\\"dx\\\": {\\\"value\\\": 0, \\\"offset\\\": 0}, \\\"dy\\\": {\\\"value\\\": 0, \\\"offset\\\": 0}, \\\"y\\\": {\\\"value\\\": 200}, \\\"x\\\": {\\\"value\\\": 500}, \\\"font\\\": {\\\"value\\\": \\\"AvenirNext-Medium\\\"}, \\\"fill\\\": {\\\"value\\\": \\\"#4A4A4A\\\"}}}, \\\"type\\\": \\\"text\\\", \\\"from\\\": {\\\"data\\\": \\\"data_2\\\"}}, {\\\"encode\\\": {\\\"update\\\": {\\\"y\\\": {\\\"field\\\": \\\"c_first_item\\\"}, \\\"x\\\": {\\\"signal\\\": \\\"datum[\\\\\\\"c_x_axis_back\\\\\\\"]+487\\\"}}, \\\"enter\\\": {\\\"fontStyle\\\": {\\\"value\\\": \\\"normal\\\"}, \\\"angle\\\": {\\\"value\\\": 0}, \\\"baseline\\\": {\\\"value\\\": \\\"middle\\\"}, \\\"clip\\\": {\\\"value\\\": true}, \\\"text\\\": {\\\"signal\\\": \\\"((datum[\\\\\\\"categorical\\\\\\\"].length >= 1) && (toString(datum[\\\\\\\"type\\\\\\\"]) == \\\\\\\"str\\\\\\\"))? toString(datum[\\\\\\\"categorical\\\\\\\"][0][\\\\\\\"label\\\\\\\"]):\\\\\\\"\\\\\\\"\\\"}, \\\"align\\\": {\\\"value\\\": \\\"left\\\"}, \\\"fontWeight\\\": {\\\"value\\\": \\\"normal\\\"}, \\\"fontSize\\\": {\\\"value\\\": 11}, \\\"dx\\\": {\\\"value\\\": 0, \\\"offset\\\": 0}, \\\"dy\\\": {\\\"value\\\": 0, \\\"offset\\\": 0}, \\\"y\\\": {\\\"value\\\": 200}, \\\"x\\\": {\\\"value\\\": 520}, \\\"font\\\": {\\\"value\\\": \\\"AvenirNext-Medium\\\"}, \\\"fill\\\": {\\\"value\\\": \\\"#4A4A4A\\\"}}}, \\\"type\\\": \\\"text\\\", \\\"from\\\": {\\\"data\\\": \\\"data_2\\\"}}, {\\\"encode\\\": {\\\"update\\\": {\\\"y\\\": {\\\"field\\\": \\\"c_second_item\\\"}, \\\"x\\\": {\\\"signal\\\": \\\"datum[\\\\\\\"c_x_axis_back\\\\\\\"]+487\\\"}}, \\\"enter\\\": {\\\"fontStyle\\\": {\\\"value\\\": \\\"normal\\\"}, \\\"angle\\\": {\\\"value\\\": 0}, \\\"baseline\\\": {\\\"value\\\": \\\"middle\\\"}, \\\"clip\\\": {\\\"value\\\": true}, \\\"text\\\": {\\\"signal\\\": \\\"((datum[\\\\\\\"categorical\\\\\\\"].length >= 2) && (toString(datum[\\\\\\\"type\\\\\\\"]) == \\\\\\\"str\\\\\\\"))? toString(datum[\\\\\\\"categorical\\\\\\\"][1][\\\\\\\"label\\\\\\\"]):\\\\\\\"\\\\\\\"\\\"}, \\\"align\\\": {\\\"value\\\": \\\"left\\\"}, \\\"fontWeight\\\": {\\\"value\\\": \\\"normal\\\"}, \\\"fontSize\\\": {\\\"value\\\": 11}, \\\"dx\\\": {\\\"value\\\": 0, \\\"offset\\\": 0}, \\\"dy\\\": {\\\"value\\\": 0, \\\"offset\\\": 0}, \\\"y\\\": {\\\"value\\\": 200}, \\\"x\\\": {\\\"value\\\": 520}, \\\"font\\\": {\\\"value\\\": \\\"AvenirNext-Medium\\\"}, \\\"fill\\\": {\\\"value\\\": \\\"#4A4A4A\\\"}}}, \\\"type\\\": \\\"text\\\", \\\"from\\\": {\\\"data\\\": \\\"data_2\\\"}}, {\\\"encode\\\": {\\\"update\\\": {\\\"y\\\": {\\\"field\\\": \\\"c_third_item\\\"}, \\\"x\\\": {\\\"signal\\\": \\\"datum[\\\\\\\"c_x_axis_back\\\\\\\"]+487\\\"}}, \\\"enter\\\": {\\\"fontStyle\\\": {\\\"value\\\": \\\"normal\\\"}, \\\"angle\\\": {\\\"value\\\": 0}, \\\"baseline\\\": {\\\"value\\\": \\\"middle\\\"}, \\\"clip\\\": {\\\"value\\\": true}, \\\"text\\\": {\\\"signal\\\": \\\"((datum[\\\\\\\"categorical\\\\\\\"].length >= 3) && (toString(datum[\\\\\\\"type\\\\\\\"]) == \\\\\\\"str\\\\\\\"))? toString(datum[\\\\\\\"categorical\\\\\\\"][2][\\\\\\\"label\\\\\\\"]):\\\\\\\"\\\\\\\"\\\"}, \\\"align\\\": {\\\"value\\\": \\\"left\\\"}, \\\"fontWeight\\\": {\\\"value\\\": \\\"normal\\\"}, \\\"fontSize\\\": {\\\"value\\\": 11}, \\\"dx\\\": {\\\"value\\\": 0, \\\"offset\\\": 0}, \\\"dy\\\": {\\\"value\\\": 0, \\\"offset\\\": 0}, \\\"y\\\": {\\\"value\\\": 200}, \\\"x\\\": {\\\"value\\\": 520}, \\\"font\\\": {\\\"value\\\": \\\"AvenirNext-Medium\\\"}, \\\"fill\\\": {\\\"value\\\": \\\"#4A4A4A\\\"}}}, \\\"type\\\": \\\"text\\\", \\\"from\\\": {\\\"data\\\": \\\"data_2\\\"}}, {\\\"encode\\\": {\\\"update\\\": {\\\"y\\\": {\\\"field\\\": \\\"c_fourth_item\\\"}, \\\"x\\\": {\\\"signal\\\": \\\"datum[\\\\\\\"c_x_axis_back\\\\\\\"]+487\\\"}}, \\\"enter\\\": {\\\"fontStyle\\\": {\\\"value\\\": \\\"normal\\\"}, \\\"angle\\\": {\\\"value\\\": 0}, \\\"baseline\\\": {\\\"value\\\": \\\"middle\\\"}, \\\"clip\\\": {\\\"value\\\": true}, \\\"text\\\": {\\\"signal\\\": \\\"((datum[\\\\\\\"categorical\\\\\\\"].length >= 4) && (toString(datum[\\\\\\\"type\\\\\\\"]) == \\\\\\\"str\\\\\\\"))? toString(datum[\\\\\\\"categorical\\\\\\\"][3][\\\\\\\"label\\\\\\\"]):\\\\\\\"\\\\\\\"\\\"}, \\\"align\\\": {\\\"value\\\": \\\"left\\\"}, \\\"fontWeight\\\": {\\\"value\\\": \\\"normal\\\"}, \\\"fontSize\\\": {\\\"value\\\": 11}, \\\"dx\\\": {\\\"value\\\": 0, \\\"offset\\\": 0}, \\\"dy\\\": {\\\"value\\\": 0, \\\"offset\\\": 0}, \\\"y\\\": {\\\"value\\\": 200}, \\\"x\\\": {\\\"value\\\": 520}, \\\"font\\\": {\\\"value\\\": \\\"AvenirNext-Medium\\\"}, \\\"fill\\\": {\\\"value\\\": \\\"#4A4A4A\\\"}}}, \\\"type\\\": \\\"text\\\", \\\"from\\\": {\\\"data\\\": \\\"data_2\\\"}}, {\\\"encode\\\": {\\\"update\\\": {\\\"y\\\": {\\\"field\\\": \\\"c_fifth_item\\\"}, \\\"x\\\": {\\\"signal\\\": \\\"datum[\\\\\\\"c_x_axis_back\\\\\\\"]+487\\\"}}, \\\"enter\\\": {\\\"fontStyle\\\": {\\\"value\\\": \\\"normal\\\"}, \\\"angle\\\": {\\\"value\\\": 0}, \\\"baseline\\\": {\\\"value\\\": \\\"middle\\\"}, \\\"clip\\\": {\\\"value\\\": true}, \\\"text\\\": {\\\"signal\\\": \\\"((datum[\\\\\\\"categorical\\\\\\\"].length >= 5) && (toString(datum[\\\\\\\"type\\\\\\\"]) == \\\\\\\"str\\\\\\\"))? toString(datum[\\\\\\\"categorical\\\\\\\"][4][\\\\\\\"label\\\\\\\"]):\\\\\\\"\\\\\\\"\\\"}, \\\"align\\\": {\\\"value\\\": \\\"left\\\"}, \\\"fontWeight\\\": {\\\"value\\\": \\\"normal\\\"}, \\\"fontSize\\\": {\\\"value\\\": 11}, \\\"dx\\\": {\\\"value\\\": 0, \\\"offset\\\": 0}, \\\"dy\\\": {\\\"value\\\": 0, \\\"offset\\\": 0}, \\\"y\\\": {\\\"value\\\": 200}, \\\"x\\\": {\\\"value\\\": 520}, \\\"font\\\": {\\\"value\\\": \\\"AvenirNext-Medium\\\"}, \\\"fill\\\": {\\\"value\\\": \\\"#4A4A4A\\\"}}}, \\\"type\\\": \\\"text\\\", \\\"from\\\": {\\\"data\\\": \\\"data_2\\\"}}, {\\\"encode\\\": {\\\"update\\\": {\\\"y\\\": {\\\"field\\\": \\\"c_first_item\\\"}, \\\"x\\\": {\\\"signal\\\": \\\"datum[\\\\\\\"c_x_axis_back\\\\\\\"]+667\\\"}}, \\\"enter\\\": {\\\"fontStyle\\\": {\\\"value\\\": \\\"normal\\\"}, \\\"angle\\\": {\\\"value\\\": 0}, \\\"baseline\\\": {\\\"value\\\": \\\"middle\\\"}, \\\"clip\\\": {\\\"value\\\": true}, \\\"text\\\": {\\\"signal\\\": \\\"((datum[\\\\\\\"categorical\\\\\\\"].length >= 1) && (toString(datum[\\\\\\\"type\\\\\\\"]) == \\\\\\\"str\\\\\\\"))? toString(datum[\\\\\\\"categorical\\\\\\\"][0][\\\\\\\"count\\\\\\\"]):\\\\\\\"\\\\\\\"\\\"}, \\\"align\\\": {\\\"value\\\": \\\"right\\\"}, \\\"fontWeight\\\": {\\\"value\\\": \\\"normal\\\"}, \\\"fontSize\\\": {\\\"value\\\": 11}, \\\"dx\\\": {\\\"value\\\": 0, \\\"offset\\\": 0}, \\\"dy\\\": {\\\"value\\\": 0, \\\"offset\\\": 0}, \\\"y\\\": {\\\"value\\\": 200}, \\\"x\\\": {\\\"value\\\": 700}, \\\"font\\\": {\\\"value\\\": \\\"AvenirNext-Medium\\\"}, \\\"fill\\\": {\\\"value\\\": \\\"#7A7A7A\\\"}}}, \\\"type\\\": \\\"text\\\", \\\"from\\\": {\\\"data\\\": \\\"data_2\\\"}}, {\\\"encode\\\": {\\\"update\\\": {\\\"y\\\": {\\\"field\\\": \\\"c_second_item\\\"}, \\\"x\\\": {\\\"signal\\\": \\\"datum[\\\\\\\"c_x_axis_back\\\\\\\"]+667\\\"}}, \\\"enter\\\": {\\\"fontStyle\\\": {\\\"value\\\": \\\"normal\\\"}, \\\"angle\\\": {\\\"value\\\": 0}, \\\"baseline\\\": {\\\"value\\\": \\\"middle\\\"}, \\\"clip\\\": {\\\"value\\\": true}, \\\"text\\\": {\\\"signal\\\": \\\"((datum[\\\\\\\"categorical\\\\\\\"].length >= 2) && (toString(datum[\\\\\\\"type\\\\\\\"]) == \\\\\\\"str\\\\\\\"))? toString(datum[\\\\\\\"categorical\\\\\\\"][1][\\\\\\\"count\\\\\\\"]):\\\\\\\"\\\\\\\"\\\"}, \\\"align\\\": {\\\"value\\\": \\\"right\\\"}, \\\"fontWeight\\\": {\\\"value\\\": \\\"normal\\\"}, \\\"fontSize\\\": {\\\"value\\\": 10}, \\\"dx\\\": {\\\"value\\\": 0, \\\"offset\\\": 0}, \\\"dy\\\": {\\\"value\\\": 0, \\\"offset\\\": 0}, \\\"y\\\": {\\\"value\\\": 200}, \\\"x\\\": {\\\"value\\\": 700}, \\\"font\\\": {\\\"value\\\": \\\"AvenirNext-Medium\\\"}, \\\"fill\\\": {\\\"value\\\": \\\"#7A7A7A\\\"}}}, \\\"type\\\": \\\"text\\\", \\\"from\\\": {\\\"data\\\": \\\"data_2\\\"}}, {\\\"encode\\\": {\\\"update\\\": {\\\"y\\\": {\\\"field\\\": \\\"c_third_item\\\"}, \\\"x\\\": {\\\"signal\\\": \\\"datum[\\\\\\\"c_x_axis_back\\\\\\\"]+667\\\"}}, \\\"enter\\\": {\\\"fontStyle\\\": {\\\"value\\\": \\\"normal\\\"}, \\\"angle\\\": {\\\"value\\\": 0}, \\\"baseline\\\": {\\\"value\\\": \\\"middle\\\"}, \\\"clip\\\": {\\\"value\\\": true}, \\\"text\\\": {\\\"signal\\\": \\\"((datum[\\\\\\\"categorical\\\\\\\"].length >= 3) && (toString(datum[\\\\\\\"type\\\\\\\"]) == \\\\\\\"str\\\\\\\"))? toString(datum[\\\\\\\"categorical\\\\\\\"][2][\\\\\\\"count\\\\\\\"]):\\\\\\\"\\\\\\\"\\\"}, \\\"align\\\": {\\\"value\\\": \\\"right\\\"}, \\\"fontWeight\\\": {\\\"value\\\": \\\"normal\\\"}, \\\"fontSize\\\": {\\\"value\\\": 10}, \\\"dx\\\": {\\\"value\\\": 0, \\\"offset\\\": 0}, \\\"dy\\\": {\\\"value\\\": 0, \\\"offset\\\": 0}, \\\"y\\\": {\\\"value\\\": 200}, \\\"x\\\": {\\\"value\\\": 700}, \\\"font\\\": {\\\"value\\\": \\\"AvenirNext-Medium\\\"}, \\\"fill\\\": {\\\"value\\\": \\\"#7A7A7A\\\"}}}, \\\"type\\\": \\\"text\\\", \\\"from\\\": {\\\"data\\\": \\\"data_2\\\"}}, {\\\"encode\\\": {\\\"update\\\": {\\\"y\\\": {\\\"field\\\": \\\"c_fourth_item\\\"}, \\\"x\\\": {\\\"signal\\\": \\\"datum[\\\\\\\"c_x_axis_back\\\\\\\"]+667\\\"}}, \\\"enter\\\": {\\\"fontStyle\\\": {\\\"value\\\": \\\"normal\\\"}, \\\"angle\\\": {\\\"value\\\": 0}, \\\"baseline\\\": {\\\"value\\\": \\\"middle\\\"}, \\\"clip\\\": {\\\"value\\\": true}, \\\"text\\\": {\\\"signal\\\": \\\"((datum[\\\\\\\"categorical\\\\\\\"].length >= 4) && (toString(datum[\\\\\\\"type\\\\\\\"]) == \\\\\\\"str\\\\\\\"))? toString(datum[\\\\\\\"categorical\\\\\\\"][3][\\\\\\\"count\\\\\\\"]):\\\\\\\"\\\\\\\"\\\"}, \\\"align\\\": {\\\"value\\\": \\\"right\\\"}, \\\"fontWeight\\\": {\\\"value\\\": \\\"normal\\\"}, \\\"fontSize\\\": {\\\"value\\\": 10}, \\\"dx\\\": {\\\"value\\\": 0, \\\"offset\\\": 0}, \\\"dy\\\": {\\\"value\\\": 0, \\\"offset\\\": 0}, \\\"y\\\": {\\\"value\\\": 200}, \\\"x\\\": {\\\"value\\\": 700}, \\\"font\\\": {\\\"value\\\": \\\"AvenirNext-Medium\\\"}, \\\"fill\\\": {\\\"value\\\": \\\"#7A7A7A\\\"}}}, \\\"type\\\": \\\"text\\\", \\\"from\\\": {\\\"data\\\": \\\"data_2\\\"}}, {\\\"encode\\\": {\\\"update\\\": {\\\"y\\\": {\\\"field\\\": \\\"c_fifth_item\\\"}, \\\"x\\\": {\\\"signal\\\": \\\"datum[\\\\\\\"c_x_axis_back\\\\\\\"]+667\\\"}}, \\\"enter\\\": {\\\"fontStyle\\\": {\\\"value\\\": \\\"normal\\\"}, \\\"angle\\\": {\\\"value\\\": 0}, \\\"baseline\\\": {\\\"value\\\": \\\"middle\\\"}, \\\"clip\\\": {\\\"value\\\": true}, \\\"text\\\": {\\\"signal\\\": \\\"((datum[\\\\\\\"categorical\\\\\\\"].length >= 5) && (toString(datum[\\\\\\\"type\\\\\\\"]) == \\\\\\\"str\\\\\\\"))? toString(datum[\\\\\\\"categorical\\\\\\\"][4][\\\\\\\"count\\\\\\\"]):\\\\\\\"\\\\\\\"\\\"}, \\\"align\\\": {\\\"value\\\": \\\"right\\\"}, \\\"fontWeight\\\": {\\\"value\\\": \\\"normal\\\"}, \\\"fontSize\\\": {\\\"value\\\": 10}, \\\"dx\\\": {\\\"value\\\": 0, \\\"offset\\\": 0}, \\\"dy\\\": {\\\"value\\\": 0, \\\"offset\\\": 0}, \\\"y\\\": {\\\"value\\\": 200}, \\\"x\\\": {\\\"value\\\": 700}, \\\"font\\\": {\\\"value\\\": \\\"AvenirNext-Medium\\\"}, \\\"fill\\\": {\\\"value\\\": \\\"#7A7A7A\\\"}}}, \\\"type\\\": \\\"text\\\", \\\"from\\\": {\\\"data\\\": \\\"data_2\\\"}}, {\\\"encode\\\": {\\\"update\\\": {\\\"y\\\": {\\\"field\\\": \\\"c_mean\\\"}, \\\"x\\\": {\\\"signal\\\": \\\"datum[\\\\\\\"c_x_axis_back\\\\\\\"]+467\\\"}}, \\\"enter\\\": {\\\"fontStyle\\\": {\\\"value\\\": \\\"normal\\\"}, \\\"angle\\\": {\\\"value\\\": 0}, \\\"baseline\\\": {\\\"value\\\": \\\"middle\\\"}, \\\"clip\\\": {\\\"value\\\": true}, \\\"text\\\": {\\\"signal\\\": \\\"(toString(datum[\\\\\\\"type\\\\\\\"]) == \\\\\\\"integer\\\\\\\" || toString(datum[\\\\\\\"type\\\\\\\"]) == \\\\\\\"float\\\\\\\")? \\\\\\\"Mean:\\\\\\\":\\\\\\\"\\\\\\\"\\\"}, \\\"align\\\": {\\\"value\\\": \\\"left\\\"}, \\\"fontWeight\\\": {\\\"value\\\": \\\"bold\\\"}, \\\"fontSize\\\": {\\\"value\\\": 11}, \\\"dx\\\": {\\\"value\\\": 0, \\\"offset\\\": 0}, \\\"dy\\\": {\\\"value\\\": 0, \\\"offset\\\": 0}, \\\"y\\\": {\\\"value\\\": 200}, \\\"x\\\": {\\\"value\\\": 500}, \\\"font\\\": {\\\"value\\\": \\\"AvenirNext-Medium\\\"}, \\\"fill\\\": {\\\"value\\\": \\\"#4A4A4A\\\"}}}, \\\"type\\\": \\\"text\\\", \\\"from\\\": {\\\"data\\\": \\\"data_2\\\"}}, {\\\"encode\\\": {\\\"update\\\": {\\\"y\\\": {\\\"field\\\": \\\"c_min\\\"}, \\\"x\\\": {\\\"signal\\\": \\\"datum[\\\\\\\"c_x_axis_back\\\\\\\"]+467\\\"}}, \\\"enter\\\": {\\\"fontStyle\\\": {\\\"value\\\": \\\"normal\\\"}, \\\"angle\\\": {\\\"value\\\": 0}, \\\"baseline\\\": {\\\"value\\\": \\\"middle\\\"}, \\\"text\\\": {\\\"signal\\\": \\\"(toString(datum[\\\\\\\"type\\\\\\\"]) == \\\\\\\"integer\\\\\\\" || toString(datum[\\\\\\\"type\\\\\\\"]) == \\\\\\\"float\\\\\\\")? \\\\\\\"Min:\\\\\\\":\\\\\\\"\\\\\\\"\\\"}, \\\"align\\\": {\\\"value\\\": \\\"left\\\"}, \\\"fontWeight\\\": {\\\"value\\\": \\\"bold\\\"}, \\\"fontSize\\\": {\\\"value\\\": 11}, \\\"dx\\\": {\\\"value\\\": 0, \\\"offset\\\": 0}, \\\"dy\\\": {\\\"value\\\": 0, \\\"offset\\\": 0}, \\\"y\\\": {\\\"value\\\": 220}, \\\"x\\\": {\\\"value\\\": 500}, \\\"font\\\": {\\\"value\\\": \\\"AvenirNext-Medium\\\"}, \\\"fill\\\": {\\\"value\\\": \\\"#4A4A4A\\\"}}}, \\\"type\\\": \\\"text\\\", \\\"from\\\": {\\\"data\\\": \\\"data_2\\\"}}, {\\\"encode\\\": {\\\"update\\\": {\\\"y\\\": {\\\"field\\\": \\\"c_max\\\"}, \\\"x\\\": {\\\"signal\\\": \\\"datum[\\\\\\\"c_x_axis_back\\\\\\\"]+467\\\"}}, \\\"enter\\\": {\\\"fontStyle\\\": {\\\"value\\\": \\\"normal\\\"}, \\\"angle\\\": {\\\"value\\\": 0}, \\\"baseline\\\": {\\\"value\\\": \\\"middle\\\"}, \\\"text\\\": {\\\"signal\\\": \\\"(toString(datum[\\\\\\\"type\\\\\\\"]) == \\\\\\\"integer\\\\\\\" || toString(datum[\\\\\\\"type\\\\\\\"]) == \\\\\\\"float\\\\\\\")? \\\\\\\"Max:\\\\\\\":\\\\\\\"\\\\\\\"\\\"}, \\\"align\\\": {\\\"value\\\": \\\"left\\\"}, \\\"fontWeight\\\": {\\\"value\\\": \\\"bold\\\"}, \\\"fontSize\\\": {\\\"value\\\": 11}, \\\"dx\\\": {\\\"value\\\": 0, \\\"offset\\\": 0}, \\\"dy\\\": {\\\"value\\\": 0, \\\"offset\\\": 0}, \\\"y\\\": {\\\"value\\\": 240}, \\\"x\\\": {\\\"value\\\": 500}, \\\"font\\\": {\\\"value\\\": \\\"AvenirNext-Medium\\\"}, \\\"fill\\\": {\\\"value\\\": \\\"#4A4A4A\\\"}}}, \\\"type\\\": \\\"text\\\", \\\"from\\\": {\\\"data\\\": \\\"data_2\\\"}}, {\\\"encode\\\": {\\\"update\\\": {\\\"y\\\": {\\\"field\\\": \\\"c_median\\\"}, \\\"x\\\": {\\\"signal\\\": \\\"datum[\\\\\\\"c_x_axis_back\\\\\\\"]+467\\\"}}, \\\"enter\\\": {\\\"fontStyle\\\": {\\\"value\\\": \\\"normal\\\"}, \\\"angle\\\": {\\\"value\\\": 0}, \\\"baseline\\\": {\\\"value\\\": \\\"middle\\\"}, \\\"text\\\": {\\\"signal\\\": \\\"(toString(datum[\\\\\\\"type\\\\\\\"]) == \\\\\\\"integer\\\\\\\" || toString(datum[\\\\\\\"type\\\\\\\"]) == \\\\\\\"float\\\\\\\")? \\\\\\\"Median:\\\\\\\":\\\\\\\"\\\\\\\"\\\"}, \\\"align\\\": {\\\"value\\\": \\\"left\\\"}, \\\"fontWeight\\\": {\\\"value\\\": \\\"bold\\\"}, \\\"fontSize\\\": {\\\"value\\\": 11}, \\\"dx\\\": {\\\"value\\\": 0, \\\"offset\\\": 0}, \\\"dy\\\": {\\\"value\\\": 0, \\\"offset\\\": 0}, \\\"y\\\": {\\\"value\\\": 260}, \\\"x\\\": {\\\"value\\\": 500}, \\\"font\\\": {\\\"value\\\": \\\"AvenirNext-Medium\\\"}, \\\"fill\\\": {\\\"value\\\": \\\"#4A4A4A\\\"}}}, \\\"type\\\": \\\"text\\\", \\\"from\\\": {\\\"data\\\": \\\"data_2\\\"}}, {\\\"encode\\\": {\\\"update\\\": {\\\"y\\\": {\\\"field\\\": \\\"c_stdev\\\"}, \\\"x\\\": {\\\"signal\\\": \\\"datum[\\\\\\\"c_x_axis_back\\\\\\\"]+467\\\"}}, \\\"enter\\\": {\\\"fontStyle\\\": {\\\"value\\\": \\\"normal\\\"}, \\\"angle\\\": {\\\"value\\\": 0}, \\\"baseline\\\": {\\\"value\\\": \\\"middle\\\"}, \\\"text\\\": {\\\"signal\\\": \\\"(toString(datum[\\\\\\\"type\\\\\\\"]) == \\\\\\\"integer\\\\\\\" || toString(datum[\\\\\\\"type\\\\\\\"]) == \\\\\\\"float\\\\\\\")? \\\\\\\"St. Dev:\\\\\\\":\\\\\\\"\\\\\\\"\\\"}, \\\"align\\\": {\\\"value\\\": \\\"left\\\"}, \\\"fontWeight\\\": {\\\"value\\\": \\\"bold\\\"}, \\\"fontSize\\\": {\\\"value\\\": 11}, \\\"dx\\\": {\\\"value\\\": 0, \\\"offset\\\": 0}, \\\"dy\\\": {\\\"value\\\": 0, \\\"offset\\\": 0}, \\\"y\\\": {\\\"value\\\": 280}, \\\"x\\\": {\\\"value\\\": 500}, \\\"font\\\": {\\\"value\\\": \\\"AvenirNext-Medium\\\"}, \\\"fill\\\": {\\\"value\\\": \\\"#4A4A4A\\\"}}}, \\\"type\\\": \\\"text\\\", \\\"from\\\": {\\\"data\\\": \\\"data_2\\\"}}, {\\\"encode\\\": {\\\"update\\\": {\\\"y\\\": {\\\"field\\\": \\\"c_mean_val\\\"}, \\\"x\\\": {\\\"signal\\\": \\\"datum[\\\\\\\"c_x_axis_back\\\\\\\"]+667\\\"}}, \\\"enter\\\": {\\\"fontStyle\\\": {\\\"value\\\": \\\"normal\\\"}, \\\"angle\\\": {\\\"value\\\": 0}, \\\"baseline\\\": {\\\"value\\\": \\\"middle\\\"}, \\\"text\\\": {\\\"signal\\\": \\\"(toString(datum[\\\\\\\"type\\\\\\\"]) == \\\\\\\"integer\\\\\\\" || toString(datum[\\\\\\\"type\\\\\\\"]) == \\\\\\\"float\\\\\\\")?toString(format(datum[\\\\\\\"mean\\\\\\\"], \\\\\\\",\\\\\\\")):\\\\\\\"\\\\\\\"\\\"}, \\\"align\\\": {\\\"value\\\": \\\"right\\\"}, \\\"fontWeight\\\": {\\\"value\\\": \\\"normal\\\"}, \\\"fontSize\\\": {\\\"value\\\": 10}, \\\"dx\\\": {\\\"value\\\": 0, \\\"offset\\\": 0}, \\\"dy\\\": {\\\"value\\\": 0, \\\"offset\\\": 0}, \\\"y\\\": {\\\"value\\\": 198}, \\\"x\\\": {\\\"value\\\": 700}, \\\"font\\\": {\\\"value\\\": \\\"AvenirNext-Medium\\\"}, \\\"fill\\\": {\\\"value\\\": \\\"#6A6A6A\\\"}}}, \\\"type\\\": \\\"text\\\", \\\"from\\\": {\\\"data\\\": \\\"data_2\\\"}}, {\\\"encode\\\": {\\\"update\\\": {\\\"y\\\": {\\\"field\\\": \\\"c_min_val\\\"}, \\\"x\\\": {\\\"signal\\\": \\\"datum[\\\\\\\"c_x_axis_back\\\\\\\"]+667\\\"}}, \\\"enter\\\": {\\\"fontStyle\\\": {\\\"value\\\": \\\"normal\\\"}, \\\"angle\\\": {\\\"value\\\": 0}, \\\"baseline\\\": {\\\"value\\\": \\\"middle\\\"}, \\\"text\\\": {\\\"signal\\\": \\\"(toString(datum[\\\\\\\"type\\\\\\\"]) == \\\\\\\"integer\\\\\\\" || toString(datum[\\\\\\\"type\\\\\\\"]) == \\\\\\\"float\\\\\\\")?toString(format(datum[\\\\\\\"min\\\\\\\"], \\\\\\\",\\\\\\\")):\\\\\\\"\\\\\\\"\\\"}, \\\"align\\\": {\\\"value\\\": \\\"right\\\"}, \\\"fontWeight\\\": {\\\"value\\\": \\\"normal\\\"}, \\\"fontSize\\\": {\\\"value\\\": 10}, \\\"dx\\\": {\\\"value\\\": 0, \\\"offset\\\": 0}, \\\"dy\\\": {\\\"value\\\": 0, \\\"offset\\\": 0}, \\\"y\\\": {\\\"value\\\": 218}, \\\"x\\\": {\\\"value\\\": 700}, \\\"font\\\": {\\\"value\\\": \\\"AvenirNext-Medium\\\"}, \\\"fill\\\": {\\\"value\\\": \\\"#6A6A6A\\\"}}}, \\\"type\\\": \\\"text\\\", \\\"from\\\": {\\\"data\\\": \\\"data_2\\\"}}, {\\\"encode\\\": {\\\"update\\\": {\\\"y\\\": {\\\"field\\\": \\\"c_max_val\\\"}, \\\"x\\\": {\\\"signal\\\": \\\"datum[\\\\\\\"c_x_axis_back\\\\\\\"]+667\\\"}}, \\\"enter\\\": {\\\"fontStyle\\\": {\\\"value\\\": \\\"normal\\\"}, \\\"angle\\\": {\\\"value\\\": 0}, \\\"baseline\\\": {\\\"value\\\": \\\"middle\\\"}, \\\"text\\\": {\\\"signal\\\": \\\"(toString(datum[\\\\\\\"type\\\\\\\"]) == \\\\\\\"integer\\\\\\\" || toString(datum[\\\\\\\"type\\\\\\\"]) == \\\\\\\"float\\\\\\\")?toString(format(datum[\\\\\\\"max\\\\\\\"], \\\\\\\",\\\\\\\")):\\\\\\\"\\\\\\\"\\\"}, \\\"align\\\": {\\\"value\\\": \\\"right\\\"}, \\\"fontWeight\\\": {\\\"value\\\": \\\"normal\\\"}, \\\"fontSize\\\": {\\\"value\\\": 10}, \\\"dx\\\": {\\\"value\\\": 0, \\\"offset\\\": 0}, \\\"dy\\\": {\\\"value\\\": 0, \\\"offset\\\": 0}, \\\"y\\\": {\\\"value\\\": 238}, \\\"x\\\": {\\\"value\\\": 700}, \\\"font\\\": {\\\"value\\\": \\\"AvenirNext-Medium\\\"}, \\\"fill\\\": {\\\"value\\\": \\\"#6A6A6A\\\"}}}, \\\"type\\\": \\\"text\\\", \\\"from\\\": {\\\"data\\\": \\\"data_2\\\"}}, {\\\"encode\\\": {\\\"update\\\": {\\\"y\\\": {\\\"field\\\": \\\"c_median_val\\\"}, \\\"x\\\": {\\\"signal\\\": \\\"datum[\\\\\\\"c_x_axis_back\\\\\\\"]+667\\\"}}, \\\"enter\\\": {\\\"fontStyle\\\": {\\\"value\\\": \\\"normal\\\"}, \\\"angle\\\": {\\\"value\\\": 0}, \\\"baseline\\\": {\\\"value\\\": \\\"middle\\\"}, \\\"text\\\": {\\\"signal\\\": \\\"(toString(datum[\\\\\\\"type\\\\\\\"]) == \\\\\\\"integer\\\\\\\" || toString(datum[\\\\\\\"type\\\\\\\"]) == \\\\\\\"float\\\\\\\")?toString(format(datum[\\\\\\\"median\\\\\\\"], \\\\\\\",\\\\\\\")):\\\\\\\"\\\\\\\"\\\"}, \\\"align\\\": {\\\"value\\\": \\\"right\\\"}, \\\"fontWeight\\\": {\\\"value\\\": \\\"normal\\\"}, \\\"fontSize\\\": {\\\"value\\\": 10}, \\\"dx\\\": {\\\"value\\\": 0, \\\"offset\\\": 0}, \\\"dy\\\": {\\\"value\\\": 0, \\\"offset\\\": 0}, \\\"y\\\": {\\\"value\\\": 258}, \\\"x\\\": {\\\"value\\\": 700}, \\\"font\\\": {\\\"value\\\": \\\"AvenirNext-Medium\\\"}, \\\"fill\\\": {\\\"value\\\": \\\"#6A6A6A\\\"}}}, \\\"type\\\": \\\"text\\\", \\\"from\\\": {\\\"data\\\": \\\"data_2\\\"}}, {\\\"encode\\\": {\\\"update\\\": {\\\"y\\\": {\\\"field\\\": \\\"c_stdev_val\\\"}, \\\"x\\\": {\\\"signal\\\": \\\"datum[\\\\\\\"c_x_axis_back\\\\\\\"]+667\\\"}}, \\\"enter\\\": {\\\"fontStyle\\\": {\\\"value\\\": \\\"normal\\\"}, \\\"angle\\\": {\\\"value\\\": 0}, \\\"baseline\\\": {\\\"value\\\": \\\"middle\\\"}, \\\"text\\\": {\\\"signal\\\": \\\"(toString(datum[\\\\\\\"type\\\\\\\"]) == \\\\\\\"integer\\\\\\\" || toString(datum[\\\\\\\"type\\\\\\\"]) == \\\\\\\"float\\\\\\\")?toString(format(datum[\\\\\\\"stdev\\\\\\\"], \\\\\\\",\\\\\\\")):\\\\\\\"\\\\\\\"\\\"}, \\\"align\\\": {\\\"value\\\": \\\"right\\\"}, \\\"fontWeight\\\": {\\\"value\\\": \\\"normal\\\"}, \\\"fontSize\\\": {\\\"value\\\": 10}, \\\"dx\\\": {\\\"value\\\": 0, \\\"offset\\\": 0}, \\\"dy\\\": {\\\"value\\\": 0, \\\"offset\\\": 0}, \\\"y\\\": {\\\"value\\\": 278}, \\\"x\\\": {\\\"value\\\": 700}, \\\"font\\\": {\\\"value\\\": \\\"AvenirNext-Medium\\\"}, \\\"fill\\\": {\\\"value\\\": \\\"#6A6A6A\\\"}}}, \\\"type\\\": \\\"text\\\", \\\"from\\\": {\\\"data\\\": \\\"data_2\\\"}}, {\\\"style\\\": \\\"cell\\\", \\\"from\\\": {\\\"facet\\\": {\\\"field\\\": \\\"numeric\\\", \\\"data\\\": \\\"data_2\\\", \\\"name\\\": \\\"new_data\\\"}}, \\\"scales\\\": [{\\\"domain\\\": {\\\"sort\\\": true, \\\"fields\\\": [\\\"left\\\", \\\"right\\\"], \\\"data\\\": \\\"new_data\\\"}, \\\"name\\\": \\\"x\\\", \\\"zero\\\": true, \\\"range\\\": [0, {\\\"signal\\\": \\\"width\\\"}], \\\"type\\\": \\\"linear\\\", \\\"nice\\\": true}, {\\\"domain\\\": {\\\"field\\\": \\\"count\\\", \\\"data\\\": \\\"new_data\\\"}, \\\"name\\\": \\\"y\\\", \\\"zero\\\": true, \\\"range\\\": [{\\\"signal\\\": \\\"height\\\"}, 0], \\\"type\\\": \\\"linear\\\", \\\"nice\\\": true}], \\\"axes\\\": [{\\\"scale\\\": \\\"x\\\", \\\"title\\\": \\\"Values\\\", \\\"tickCount\\\": {\\\"signal\\\": \\\"ceil(width/40)\\\"}, \\\"zindex\\\": 1, \\\"labelOverlap\\\": true, \\\"orient\\\": \\\"bottom\\\"}, {\\\"domain\\\": false, \\\"scale\\\": \\\"x\\\", \\\"ticks\\\": false, \\\"labels\\\": false, \\\"tickCount\\\": {\\\"signal\\\": \\\"ceil(width/40)\\\"}, \\\"zindex\\\": 0, \\\"grid\\\": true, \\\"minExtent\\\": 0, \\\"gridScale\\\": \\\"y\\\", \\\"orient\\\": \\\"bottom\\\", \\\"maxExtent\\\": 0}, {\\\"scale\\\": \\\"y\\\", \\\"title\\\": \\\"Count\\\", \\\"tickCount\\\": {\\\"signal\\\": \\\"ceil(height/40)\\\"}, \\\"zindex\\\": 1, \\\"labelOverlap\\\": true, \\\"orient\\\": \\\"left\\\"}, {\\\"domain\\\": false, \\\"scale\\\": \\\"y\\\", \\\"ticks\\\": false, \\\"labels\\\": false, \\\"tickCount\\\": {\\\"signal\\\": \\\"ceil(height/40)\\\"}, \\\"zindex\\\": 0, \\\"grid\\\": true, \\\"minExtent\\\": 0, \\\"gridScale\\\": \\\"x\\\", \\\"orient\\\": \\\"left\\\", \\\"maxExtent\\\": 0}], \\\"signals\\\": [{\\\"name\\\": \\\"width\\\", \\\"update\\\": \\\"250\\\"}, {\\\"name\\\": \\\"height\\\", \\\"update\\\": \\\"150\\\"}], \\\"marks\\\": [{\\\"encode\\\": {\\\"hover\\\": {\\\"fill\\\": {\\\"value\\\": \\\"#7EC2F3\\\"}}, \\\"update\\\": {\\\"x2\\\": {\\\"field\\\": \\\"right\\\", \\\"scale\\\": \\\"x\\\"}, \\\"x\\\": {\\\"field\\\": \\\"left\\\", \\\"scale\\\": \\\"x\\\"}, \\\"y2\\\": {\\\"scale\\\": \\\"y\\\", \\\"value\\\": 0}, \\\"y\\\": {\\\"field\\\": \\\"count\\\", \\\"scale\\\": \\\"y\\\"}, \\\"fill\\\": {\\\"value\\\": \\\"#108EE9\\\"}}}, \\\"from\\\": {\\\"data\\\": \\\"new_data\\\"}, \\\"style\\\": [\\\"rect\\\"], \\\"type\\\": \\\"rect\\\", \\\"name\\\": \\\"marks\\\"}], \\\"encode\\\": {\\\"update\\\": {\\\"x\\\": {\\\"signal\\\": \\\"datum[\\\\\\\"c_x_axis_back\\\\\\\"]+87\\\"}, \\\"clip\\\": {\\\"field\\\": \\\"c_clip_val\\\"}, \\\"width\\\": {\\\"field\\\": \\\"c_width_numeric_val\\\"}}, \\\"enter\\\": {\\\"strokeWidth\\\": {\\\"value\\\": 0}, \\\"height\\\": {\\\"value\\\": 150}, \\\"width\\\": {\\\"value\\\": 250}, \\\"stroke\\\": {\\\"value\\\": \\\"#000000\\\"}, \\\"fillOpacity\\\": {\\\"value\\\": 0}, \\\"y\\\": {\\\"field\\\": \\\"graph_offset\\\"}, \\\"x\\\": {\\\"value\\\": 120}, \\\"fill\\\": {\\\"value\\\": \\\"#ffffff\\\"}}}, \\\"type\\\": \\\"group\\\"}, {\\\"style\\\": \\\"cell\\\", \\\"from\\\": {\\\"facet\\\": {\\\"field\\\": \\\"categorical\\\", \\\"data\\\": \\\"data_2\\\", \\\"name\\\": \\\"data_5\\\"}}, \\\"scales\\\": [{\\\"domain\\\": {\\\"field\\\": \\\"count\\\", \\\"data\\\": \\\"data_5\\\"}, \\\"name\\\": \\\"x\\\", \\\"zero\\\": true, \\\"range\\\": [0, 250], \\\"type\\\": \\\"linear\\\", \\\"nice\\\": true}, {\\\"paddingInner\\\": 0.1, \\\"domain\\\": {\\\"sort\\\": {\\\"field\\\": \\\"label_idx\\\", \\\"order\\\": \\\"descending\\\", \\\"op\\\": \\\"mean\\\"}, \\\"field\\\": \\\"label\\\", \\\"data\\\": \\\"data_5\\\"}, \\\"name\\\": \\\"y\\\", \\\"paddingOuter\\\": 0.05, \\\"range\\\": [150, 0], \\\"type\\\": \\\"band\\\"}], \\\"axes\\\": [{\\\"scale\\\": \\\"x\\\", \\\"title\\\": \\\"Count\\\", \\\"tickCount\\\": {\\\"signal\\\": \\\"ceil(width/40)\\\"}, \\\"zindex\\\": 1, \\\"labelOverlap\\\": true, \\\"orient\\\": \\\"top\\\"}, {\\\"domain\\\": false, \\\"scale\\\": \\\"x\\\", \\\"ticks\\\": false, \\\"labels\\\": false, \\\"tickCount\\\": {\\\"signal\\\": \\\"ceil(width/40)\\\"}, \\\"zindex\\\": 0, \\\"grid\\\": true, \\\"minExtent\\\": 0, \\\"gridScale\\\": \\\"y\\\", \\\"orient\\\": \\\"top\\\", \\\"maxExtent\\\": 0}, {\\\"zindex\\\": 1, \\\"title\\\": \\\"Label\\\", \\\"scale\\\": \\\"y\\\", \\\"orient\\\": \\\"left\\\", \\\"labelOverlap\\\": true}], \\\"signals\\\": [{\\\"on\\\": [{\\\"events\\\": \\\"mousemove\\\", \\\"update\\\": \\\"isTuple(group()) ? group() : unit\\\"}], \\\"name\\\": \\\"unit\\\", \\\"value\\\": {}}, {\\\"name\\\": \\\"pts\\\", \\\"update\\\": \\\"data(\\\\\\\"pts_store\\\\\\\").length && {count: data(\\\\\\\"pts_store\\\\\\\")[0].values[0]}\\\"}, {\\\"on\\\": [{\\\"force\\\": true, \\\"events\\\": [{\\\"source\\\": \\\"scope\\\", \\\"type\\\": \\\"click\\\"}], \\\"update\\\": \\\"datum && item().mark.marktype !== &apos;group&apos; ? {unit: \\\\\\\"\\\\\\\", encodings: [\\\\\\\"x\\\\\\\"], fields: [\\\\\\\"count\\\\\\\"], values: [datum[\\\\\\\"count\\\\\\\"]]} : null\\\"}], \\\"name\\\": \\\"pts_tuple\\\", \\\"value\\\": {}}, {\\\"on\\\": [{\\\"events\\\": {\\\"signal\\\": \\\"pts_tuple\\\"}, \\\"update\\\": \\\"modify(\\\\\\\"pts_store\\\\\\\", pts_tuple, true)\\\"}], \\\"name\\\": \\\"pts_modify\\\"}], \\\"marks\\\": [{\\\"encode\\\": {\\\"hover\\\": {\\\"fill\\\": {\\\"value\\\": \\\"#7EC2F3\\\"}}, \\\"update\\\": {\\\"x2\\\": {\\\"scale\\\": \\\"x\\\", \\\"value\\\": 0}, \\\"x\\\": {\\\"field\\\": \\\"count\\\", \\\"scale\\\": \\\"x\\\"}, \\\"fill\\\": {\\\"value\\\": \\\"#108EE9\\\"}, \\\"y\\\": {\\\"field\\\": \\\"label\\\", \\\"scale\\\": \\\"y\\\"}, \\\"height\\\": {\\\"band\\\": true, \\\"scale\\\": \\\"y\\\"}}}, \\\"from\\\": {\\\"data\\\": \\\"data_5\\\"}, \\\"style\\\": [\\\"bar\\\"], \\\"type\\\": \\\"rect\\\", \\\"name\\\": \\\"marks\\\"}], \\\"encode\\\": {\\\"update\\\": {\\\"x\\\": {\\\"signal\\\": \\\"datum[\\\\\\\"c_x_axis_back\\\\\\\"]+137\\\"}, \\\"clip\\\": {\\\"field\\\": \\\"c_clip_val_cat\\\"}, \\\"width\\\": {\\\"field\\\": \\\"c_width_numeric_val_cat\\\"}}, \\\"enter\\\": {\\\"strokeWidth\\\": {\\\"value\\\": 0}, \\\"height\\\": {\\\"value\\\": 150}, \\\"width\\\": {\\\"value\\\": 250}, \\\"stroke\\\": {\\\"value\\\": \\\"#000000\\\"}, \\\"fillOpacity\\\": {\\\"value\\\": 0}, \\\"y\\\": {\\\"field\\\": \\\"graph_offset_categorical\\\"}, \\\"x\\\": {\\\"value\\\": 170}, \\\"fill\\\": {\\\"value\\\": \\\"#ffffff\\\"}}}, \\\"type\\\": \\\"group\\\"}], \\\"axes\\\": [], \\\"type\\\": \\\"group\\\", \\\"scales\\\": []}]}], \\\"$schema\\\": \\\"https://vega.github.io/schema/vega/v3.0.json\\\", \\\"data\\\": [{\\\"name\\\": \\\"pts_store\\\"}, {\\\"progress\\\": 100.0, \\\"values\\\": [{\\\"a\\\": 0, \\\"num_row\\\": 147, \\\"title\\\": \\\"SepalLength\\\", \\\"max\\\": 7.9, \\\"min\\\": 4.3, \\\"median\\\": 5.8, \\\"num_missing\\\": 0, \\\"num_unique\\\": 35, \\\"categorical\\\": [], \\\"numeric\\\": [{\\\"count\\\": 4, \\\"right\\\": 4.4304, \\\"left\\\": 4.2448}, {\\\"count\\\": 5, \\\"right\\\": 4.616, \\\"left\\\": 4.4304}, {\\\"count\\\": 7, \\\"right\\\": 4.8016, \\\"left\\\": 4.616}, {\\\"count\\\": 6, \\\"right\\\": 4.9872, \\\"left\\\": 4.8016}, {\\\"count\\\": 18, \\\"right\\\": 5.1728, \\\"left\\\": 4.9872}, {\\\"count\\\": 5, \\\"right\\\": 5.3584, \\\"left\\\": 5.1728}, {\\\"count\\\": 13, \\\"right\\\": 5.544, \\\"left\\\": 5.3584}, {\\\"count\\\": 13, \\\"right\\\": 5.7296, \\\"left\\\": 5.544}, {\\\"count\\\": 9, \\\"right\\\": 5.9152, \\\"left\\\": 5.7296}, {\\\"count\\\": 12, \\\"right\\\": 6.1008, \\\"left\\\": 5.9152}, {\\\"count\\\": 4, \\\"right\\\": 6.2864, \\\"left\\\": 6.1008}, {\\\"count\\\": 16, \\\"right\\\": 6.472, \\\"left\\\": 6.2864}, {\\\"count\\\": 7, \\\"right\\\": 6.6576, \\\"left\\\": 6.472}, {\\\"count\\\": 11, \\\"right\\\": 6.8432, \\\"left\\\": 6.6576}, {\\\"count\\\": 5, \\\"right\\\": 7.0288, \\\"left\\\": 6.8432}, {\\\"count\\\": 4, \\\"right\\\": 7.2144, \\\"left\\\": 7.0288}, {\\\"count\\\": 1, \\\"right\\\": 7.4, \\\"left\\\": 7.2144}, {\\\"count\\\": 1, \\\"right\\\": 7.5856, \\\"left\\\": 7.4}, {\\\"count\\\": 5, \\\"right\\\": 7.7712, \\\"left\\\": 7.5856}, {\\\"count\\\": 1, \\\"right\\\": 7.9568, \\\"left\\\": 7.7712}], \\\"stdev\\\": 0.830652, \\\"type\\\": \\\"float\\\", \\\"mean\\\": 5.84966}, {\\\"a\\\": 1, \\\"num_row\\\": 147, \\\"title\\\": \\\"SepalWidth\\\", \\\"max\\\": 4.4, \\\"min\\\": 2.0, \\\"median\\\": 3.0, \\\"num_missing\\\": 0, \\\"num_unique\\\": 23, \\\"categorical\\\": [], \\\"numeric\\\": [{\\\"count\\\": 1, \\\"right\\\": 2.086, \\\"left\\\": 1.962}, {\\\"count\\\": 3, \\\"right\\\": 2.21, \\\"left\\\": 2.086}, {\\\"count\\\": 4, \\\"right\\\": 2.334, \\\"left\\\": 2.21}, {\\\"count\\\": 3, \\\"right\\\": 2.458, \\\"left\\\": 2.334}, {\\\"count\\\": 8, \\\"right\\\": 2.582, \\\"left\\\": 2.458}, {\\\"count\\\": 14, \\\"right\\\": 2.706, \\\"left\\\": 2.582}, {\\\"count\\\": 13, \\\"right\\\": 2.83, \\\"left\\\": 2.706}, {\\\"count\\\": 10, \\\"right\\\": 2.954, \\\"left\\\": 2.83}, {\\\"count\\\": 25, \\\"right\\\": 3.078, \\\"left\\\": 2.954}, {\\\"count\\\": 25, \\\"right\\\": 3.202, \\\"left\\\": 3.078}, {\\\"count\\\": 5, \\\"right\\\": 3.326, \\\"left\\\": 3.202}, {\\\"count\\\": 12, \\\"right\\\": 3.45, \\\"left\\\": 3.326}, {\\\"count\\\": 6, \\\"right\\\": 3.574, \\\"left\\\": 3.45}, {\\\"count\\\": 3, \\\"right\\\": 3.698, \\\"left\\\": 3.574}, {\\\"count\\\": 9, \\\"right\\\": 3.822, \\\"left\\\": 3.698}, {\\\"count\\\": 2, \\\"right\\\": 3.946, \\\"left\\\": 3.822}, {\\\"count\\\": 1, \\\"right\\\": 4.07, \\\"left\\\": 3.946}, {\\\"count\\\": 1, \\\"right\\\": 4.194, \\\"left\\\": 4.07}, {\\\"count\\\": 1, \\\"right\\\": 4.318, \\\"left\\\": 4.194}, {\\\"count\\\": 1, \\\"right\\\": 4.442, \\\"left\\\": 4.318}], \\\"stdev\\\": 0.435536, \\\"type\\\": \\\"float\\\", \\\"mean\\\": 3.054422}, {\\\"a\\\": 2, \\\"num_row\\\": 147, \\\"title\\\": \\\"PetalLength\\\", \\\"max\\\": 6.9, \\\"min\\\": 1.0, \\\"median\\\": 4.4, \\\"num_missing\\\": 0, \\\"num_unique\\\": 43, \\\"categorical\\\": [], \\\"numeric\\\": [{\\\"count\\\": 4, \\\"right\\\": 1.2493, \\\"left\\\": 0.948248}, {\\\"count\\\": 32, \\\"right\\\": 1.55036, \\\"left\\\": 1.2493}, {\\\"count\\\": 11, \\\"right\\\": 1.85142, \\\"left\\\": 1.55036}, {\\\"count\\\": 2, \\\"right\\\": 2.15247, \\\"left\\\": 1.85142}, {\\\"count\\\": 0, \\\"right\\\": 2.45353, \\\"left\\\": 2.15247}, {\\\"count\\\": 0, \\\"right\\\": 2.75458, \\\"left\\\": 2.45353}, {\\\"count\\\": 1, \\\"right\\\": 3.05564, \\\"left\\\": 2.75458}, {\\\"count\\\": 2, \\\"right\\\": 3.3567, \\\"left\\\": 3.05564}, {\\\"count\\\": 3, \\\"right\\\": 3.65775, \\\"left\\\": 3.3567}, {\\\"count\\\": 5, \\\"right\\\": 3.95881, \\\"left\\\": 3.65775}, {\\\"count\\\": 11, \\\"right\\\": 4.25986, \\\"left\\\": 3.95881}, {\\\"count\\\": 14, \\\"right\\\": 4.56092, \\\"left\\\": 4.25986}, {\\\"count\\\": 12, \\\"right\\\": 4.86198, \\\"left\\\": 4.56092}, {\\\"count\\\": 16, \\\"right\\\": 5.16303, \\\"left\\\": 4.86198}, {\\\"count\\\": 6, \\\"right\\\": 5.46409, \\\"left\\\": 5.16303}, {\\\"count\\\": 12, \\\"right\\\": 5.76514, \\\"left\\\": 5.46409}, {\\\"count\\\": 7, \\\"right\\\": 6.0662, \\\"left\\\": 5.76514}, {\\\"count\\\": 4, \\\"right\\\": 6.36726, \\\"left\\\": 6.0662}, {\\\"count\\\": 2, \\\"right\\\": 6.66831, \\\"left\\\": 6.36726}, {\\\"count\\\": 3, \\\"right\\\": 6.96937, \\\"left\\\": 6.66831}], \\\"stdev\\\": 1.761998, \\\"type\\\": \\\"float\\\", \\\"mean\\\": 3.763265}, {\\\"a\\\": 3, \\\"num_row\\\": 147, \\\"title\\\": \\\"PetalWidth\\\", \\\"max\\\": 2.5, \\\"min\\\": 0.1, \\\"median\\\": 1.3, \\\"num_missing\\\": 0, \\\"num_unique\\\": 22, \\\"categorical\\\": [], \\\"numeric\\\": [{\\\"count\\\": 6, \\\"right\\\": 0.192808, \\\"left\\\": 0.069928}, {\\\"count\\\": 34, \\\"right\\\": 0.315688, \\\"left\\\": 0.192808}, {\\\"count\\\": 7, \\\"right\\\": 0.438568, \\\"left\\\": 0.315688}, {\\\"count\\\": 1, \\\"right\\\": 0.561448, \\\"left\\\": 0.438568}, {\\\"count\\\": 1, \\\"right\\\": 0.684328, \\\"left\\\": 0.561448}, {\\\"count\\\": 0, \\\"right\\\": 0.807208, \\\"left\\\": 0.684328}, {\\\"count\\\": 0, \\\"right\\\": 0.930088, \\\"left\\\": 0.807208}, {\\\"count\\\": 7, \\\"right\\\": 1.05297, \\\"left\\\": 0.930088}, {\\\"count\\\": 3, \\\"right\\\": 1.17585, \\\"left\\\": 1.05297}, {\\\"count\\\": 5, \\\"right\\\": 1.29873, \\\"left\\\": 1.17585}, {\\\"count\\\": 20, \\\"right\\\": 1.42161, \\\"left\\\": 1.29873}, {\\\"count\\\": 12, \\\"right\\\": 1.54449, \\\"left\\\": 1.42161}, {\\\"count\\\": 4, \\\"right\\\": 1.66737, \\\"left\\\": 1.54449}, {\\\"count\\\": 2, \\\"right\\\": 1.79025, \\\"left\\\": 1.66737}, {\\\"count\\\": 16, \\\"right\\\": 1.91313, \\\"left\\\": 1.79025}, {\\\"count\\\": 6, \\\"right\\\": 2.03601, \\\"left\\\": 1.91313}, {\\\"count\\\": 6, \\\"right\\\": 2.15889, \\\"left\\\": 2.03601}, {\\\"count\\\": 3, \\\"right\\\": 2.28177, \\\"left\\\": 2.15889}, {\\\"count\\\": 11, \\\"right\\\": 2.40465, \\\"left\\\": 2.28177}, {\\\"count\\\": 3, \\\"right\\\": 2.52753, \\\"left\\\": 2.40465}], \\\"stdev\\\": 0.762247, \\\"type\\\": \\\"float\\\", \\\"mean\\\": 1.20068}, {\\\"a\\\": 4, \\\"num_row\\\": 147, \\\"title\\\": \\\"Species\\\", \\\"categorical\\\": [{\\\"count\\\": 49, \\\"label_idx\\\": 0, \\\"label\\\": \\\"Iris-setosa\\\"}, {\\\"count\\\": 49, \\\"label_idx\\\": 1, \\\"label\\\": \\\"Iris-versicolor\\\"}, {\\\"count\\\": 49, \\\"label_idx\\\": 2, \\\"label\\\": \\\"Iris-virginica\\\"}], \\\"num_missing\\\": 0, \\\"num_unique\\\": 3, \\\"numeric\\\": [], \\\"type\\\": \\\"str\\\"}], \\\"name\\\": \\\"source_2\\\"}, {\\\"source\\\": \\\"source_2\\\", \\\"name\\\": \\\"data_2\\\", \\\"transform\\\": [{\\\"expr\\\": \\\"20\\\", \\\"as\\\": \\\"c_x_axis_back\\\", \\\"type\\\": \\\"formula\\\"}, {\\\"expr\\\": \\\"toNumber(datum[\\\\\\\"a\\\\\\\"])*300+66\\\", \\\"as\\\": \\\"c_main_background\\\", \\\"type\\\": \\\"formula\\\"}, {\\\"expr\\\": \\\"toNumber(datum[\\\\\\\"a\\\\\\\"])*300+43\\\", \\\"as\\\": \\\"c_top_bar\\\", \\\"type\\\": \\\"formula\\\"}, {\\\"expr\\\": \\\"toNumber(datum[\\\\\\\"a\\\\\\\"])*300+59\\\", \\\"as\\\": \\\"c_top_title\\\", \\\"type\\\": \\\"formula\\\"}, {\\\"expr\\\": \\\"toNumber(datum[\\\\\\\"a\\\\\\\"])*300+58\\\", \\\"as\\\": \\\"c_top_type\\\", \\\"type\\\": \\\"formula\\\"}, {\\\"expr\\\": \\\"toNumber(datum[\\\\\\\"a\\\\\\\"])*300+178\\\", \\\"as\\\": \\\"c_rule\\\", \\\"type\\\": \\\"formula\\\"}, {\\\"expr\\\": \\\"toNumber(datum[\\\\\\\"a\\\\\\\"])*300+106\\\", \\\"as\\\": \\\"c_num_rows\\\", \\\"type\\\": \\\"formula\\\"}, {\\\"expr\\\": \\\"toNumber(datum[\\\\\\\"a\\\\\\\"])*300+130\\\", \\\"as\\\": \\\"c_num_unique\\\", \\\"type\\\": \\\"formula\\\"}, {\\\"expr\\\": \\\"toNumber(datum[\\\\\\\"a\\\\\\\"])*300+154\\\", \\\"as\\\": \\\"c_missing\\\", \\\"type\\\": \\\"formula\\\"}, {\\\"expr\\\": \\\"toNumber(datum[\\\\\\\"a\\\\\\\"])*300+105\\\", \\\"as\\\": \\\"c_num_rows_val\\\", \\\"type\\\": \\\"formula\\\"}, {\\\"expr\\\": \\\"toNumber(datum[\\\\\\\"a\\\\\\\"])*300+130\\\", \\\"as\\\": \\\"c_num_unique_val\\\", \\\"type\\\": \\\"formula\\\"}, {\\\"expr\\\": \\\"toNumber(datum[\\\\\\\"a\\\\\\\"])*300+154\\\", \\\"as\\\": \\\"c_missing_val\\\", \\\"type\\\": \\\"formula\\\"}, {\\\"expr\\\": \\\"toNumber(datum[\\\\\\\"a\\\\\\\"])*300+195\\\", \\\"as\\\": \\\"c_frequent_items\\\", \\\"type\\\": \\\"formula\\\"}, {\\\"expr\\\": \\\"toNumber(datum[\\\\\\\"a\\\\\\\"])*300+218\\\", \\\"as\\\": \\\"c_first_item\\\", \\\"type\\\": \\\"formula\\\"}, {\\\"expr\\\": \\\"toNumber(datum[\\\\\\\"a\\\\\\\"])*300+235\\\", \\\"as\\\": \\\"c_second_item\\\", \\\"type\\\": \\\"formula\\\"}, {\\\"expr\\\": \\\"toNumber(datum[\\\\\\\"a\\\\\\\"])*300+252\\\", \\\"as\\\": \\\"c_third_item\\\", \\\"type\\\": \\\"formula\\\"}, {\\\"expr\\\": \\\"toNumber(datum[\\\\\\\"a\\\\\\\"])*300+269\\\", \\\"as\\\": \\\"c_fourth_item\\\", \\\"type\\\": \\\"formula\\\"}, {\\\"expr\\\": \\\"toNumber(datum[\\\\\\\"a\\\\\\\"])*300+286\\\", \\\"as\\\": \\\"c_fifth_item\\\", \\\"type\\\": \\\"formula\\\"}, {\\\"expr\\\": \\\"toNumber(datum[\\\\\\\"a\\\\\\\"])*300+200\\\", \\\"as\\\": \\\"c_mean\\\", \\\"type\\\": \\\"formula\\\"}, {\\\"expr\\\": \\\"toNumber(datum[\\\\\\\"a\\\\\\\"])*300+220\\\", \\\"as\\\": \\\"c_min\\\", \\\"type\\\": \\\"formula\\\"}, {\\\"expr\\\": \\\"toNumber(datum[\\\\\\\"a\\\\\\\"])*300+240\\\", \\\"as\\\": \\\"c_max\\\", \\\"type\\\": \\\"formula\\\"}, {\\\"expr\\\": \\\"toNumber(datum[\\\\\\\"a\\\\\\\"])*300+260\\\", \\\"as\\\": \\\"c_median\\\", \\\"type\\\": \\\"formula\\\"}, {\\\"expr\\\": \\\"toNumber(datum[\\\\\\\"a\\\\\\\"])*300+280\\\", \\\"as\\\": \\\"c_stdev\\\", \\\"type\\\": \\\"formula\\\"}, {\\\"expr\\\": \\\"toNumber(datum[\\\\\\\"a\\\\\\\"])*300+198\\\", \\\"as\\\": \\\"c_mean_val\\\", \\\"type\\\": \\\"formula\\\"}, {\\\"expr\\\": \\\"toNumber(datum[\\\\\\\"a\\\\\\\"])*300+218\\\", \\\"as\\\": \\\"c_min_val\\\", \\\"type\\\": \\\"formula\\\"}, {\\\"expr\\\": \\\"toNumber(datum[\\\\\\\"a\\\\\\\"])*300+238\\\", \\\"as\\\": \\\"c_max_val\\\", \\\"type\\\": \\\"formula\\\"}, {\\\"expr\\\": \\\"toNumber(datum[\\\\\\\"a\\\\\\\"])*300+258\\\", \\\"as\\\": \\\"c_median_val\\\", \\\"type\\\": \\\"formula\\\"}, {\\\"expr\\\": \\\"toNumber(datum[\\\\\\\"a\\\\\\\"])*300+278\\\", \\\"as\\\": \\\"c_stdev_val\\\", \\\"type\\\": \\\"formula\\\"}, {\\\"expr\\\": \\\"toNumber(datum[\\\\\\\"a\\\\\\\"])*300+106\\\", \\\"as\\\": \\\"graph_offset\\\", \\\"type\\\": \\\"formula\\\"}, {\\\"expr\\\": \\\"toNumber(datum[\\\\\\\"a\\\\\\\"])*300+132\\\", \\\"as\\\": \\\"graph_offset_categorical\\\", \\\"type\\\": \\\"formula\\\"}, {\\\"expr\\\": \\\"(toString(datum[\\\\\\\"type\\\\\\\"]) == \\\\\\\"integer\\\\\\\" || toString(datum[\\\\\\\"type\\\\\\\"]) == \\\\\\\"float\\\\\\\")?false:true\\\", \\\"as\\\": \\\"c_clip_val\\\", \\\"type\\\": \\\"formula\\\"}, {\\\"expr\\\": \\\"(toString(datum[\\\\\\\"type\\\\\\\"]) == \\\\\\\"integer\\\\\\\" || toString(datum[\\\\\\\"type\\\\\\\"]) == \\\\\\\"float\\\\\\\")?250:0\\\", \\\"as\\\": \\\"c_width_numeric_val\\\", \\\"type\\\": \\\"formula\\\"}, {\\\"expr\\\": \\\"(toString(datum[\\\\\\\"type\\\\\\\"]) == \\\\\\\"str\\\\\\\")?false:true\\\", \\\"as\\\": \\\"c_clip_val_cat\\\", \\\"type\\\": \\\"formula\\\"}, {\\\"expr\\\": \\\"(toString(datum[\\\\\\\"type\\\\\\\"]) == \\\\\\\"str\\\\\\\")?250:0\\\", \\\"as\\\": \\\"c_width_numeric_val_cat\\\", \\\"type\\\": \\\"formula\\\"}]}], \\\"metadata\\\": {\\\"bubbleOpts\\\": {\\\"fields\\\": [{\\\"field\\\": \\\"left\\\"}, {\\\"field\\\": \\\"right\\\"}, {\\\"field\\\": \\\"count\\\"}, {\\\"field\\\": \\\"label\\\"}], \\\"showAllFields\\\": false}}}\";                                 var vega_json_parsed = JSON.parse(vega_json);                                 var toolTipOpts = {                                     showAllFields: true                                 };                                 if(vega_json_parsed[\"metadata\"] != null){                                     if(vega_json_parsed[\"metadata\"][\"bubbleOpts\"] != null){                                         toolTipOpts = vega_json_parsed[\"metadata\"][\"bubbleOpts\"];                                     };                                 };                                 vegaEmbed(\"#vis\", vega_json_parsed).then(function (result) {                                     vegaTooltip.vega(result.view, toolTipOpts);                                  });                             </script>                         </body>                     </html>' src=\"demo_iframe_srcdoc.htm\">                         <p>Your browser does not support iframes.</p>                     </iframe>                 </body>             </html>"
      ],
      "text/plain": [
       "<IPython.core.display.HTML object>"
      ]
     },
     "metadata": {},
     "output_type": "display_data"
    }
   ],
   "source": [
    "train_data = tc.SFrame.read_csv(\"Iris_train.csv\")\n",
    "train_data.show()"
   ]
  },
  {
   "cell_type": "code",
   "execution_count": 3,
   "metadata": {},
   "outputs": [
    {
     "data": {
      "text/html": [
       "<pre>Read 3 lines. Lines per second: 187.278</pre>"
      ],
      "text/plain": [
       "Read 3 lines. Lines per second: 187.278"
      ]
     },
     "metadata": {},
     "output_type": "display_data"
    },
    {
     "data": {
      "text/html": [
       "<pre>Finished parsing file /Users/jt/Workspace/ml/Iris_test.csv</pre>"
      ],
      "text/plain": [
       "Finished parsing file /Users/jt/Workspace/ml/Iris_test.csv"
      ]
     },
     "metadata": {},
     "output_type": "display_data"
    },
    {
     "data": {
      "text/html": [
       "<pre>Parsing completed. Parsed 3 lines in 0.016674 secs.</pre>"
      ],
      "text/plain": [
       "Parsing completed. Parsed 3 lines in 0.016674 secs."
      ]
     },
     "metadata": {},
     "output_type": "display_data"
    },
    {
     "name": "stdout",
     "output_type": "stream",
     "text": [
      "------------------------------------------------------\n",
      "Inferred types from first 100 line(s) of file as \n",
      "column_type_hints=[float,float,float,float,str]\n",
      "If parsing fails due to incorrect types, you can correct\n",
      "the inferred type list above and pass it to read_csv in\n",
      "the column_type_hints argument\n",
      "------------------------------------------------------\n"
     ]
    },
    {
     "data": {
      "text/html": [
       "<pre>Finished parsing file /Users/jt/Workspace/ml/Iris_test.csv</pre>"
      ],
      "text/plain": [
       "Finished parsing file /Users/jt/Workspace/ml/Iris_test.csv"
      ]
     },
     "metadata": {},
     "output_type": "display_data"
    },
    {
     "data": {
      "text/html": [
       "<pre>Parsing completed. Parsed 3 lines in 0.012154 secs.</pre>"
      ],
      "text/plain": [
       "Parsing completed. Parsed 3 lines in 0.012154 secs."
      ]
     },
     "metadata": {},
     "output_type": "display_data"
    },
    {
     "data": {
      "text/html": [
       "<div style=\"max-height:1000px;max-width:1500px;overflow:auto;\"><table frame=\"box\" rules=\"cols\">\n",
       "    <tr>\n",
       "        <th style=\"padding-left: 1em; padding-right: 1em; text-align: center\">SepalLength</th>\n",
       "        <th style=\"padding-left: 1em; padding-right: 1em; text-align: center\">SepalWidth</th>\n",
       "        <th style=\"padding-left: 1em; padding-right: 1em; text-align: center\">PetalLength</th>\n",
       "        <th style=\"padding-left: 1em; padding-right: 1em; text-align: center\">PetalWidth</th>\n",
       "        <th style=\"padding-left: 1em; padding-right: 1em; text-align: center\">Species</th>\n",
       "    </tr>\n",
       "    <tr>\n",
       "        <td style=\"padding-left: 1em; padding-right: 1em; text-align: center; vertical-align: top\">5.0</td>\n",
       "        <td style=\"padding-left: 1em; padding-right: 1em; text-align: center; vertical-align: top\">3.3</td>\n",
       "        <td style=\"padding-left: 1em; padding-right: 1em; text-align: center; vertical-align: top\">1.4</td>\n",
       "        <td style=\"padding-left: 1em; padding-right: 1em; text-align: center; vertical-align: top\">0.2</td>\n",
       "        <td style=\"padding-left: 1em; padding-right: 1em; text-align: center; vertical-align: top\">Iris-setosa</td>\n",
       "    </tr>\n",
       "    <tr>\n",
       "        <td style=\"padding-left: 1em; padding-right: 1em; text-align: center; vertical-align: top\">5.7</td>\n",
       "        <td style=\"padding-left: 1em; padding-right: 1em; text-align: center; vertical-align: top\">2.8</td>\n",
       "        <td style=\"padding-left: 1em; padding-right: 1em; text-align: center; vertical-align: top\">4.1</td>\n",
       "        <td style=\"padding-left: 1em; padding-right: 1em; text-align: center; vertical-align: top\">1.3</td>\n",
       "        <td style=\"padding-left: 1em; padding-right: 1em; text-align: center; vertical-align: top\">Iris-versicolor</td>\n",
       "    </tr>\n",
       "    <tr>\n",
       "        <td style=\"padding-left: 1em; padding-right: 1em; text-align: center; vertical-align: top\">5.9</td>\n",
       "        <td style=\"padding-left: 1em; padding-right: 1em; text-align: center; vertical-align: top\">3.0</td>\n",
       "        <td style=\"padding-left: 1em; padding-right: 1em; text-align: center; vertical-align: top\">5.1</td>\n",
       "        <td style=\"padding-left: 1em; padding-right: 1em; text-align: center; vertical-align: top\">1.8</td>\n",
       "        <td style=\"padding-left: 1em; padding-right: 1em; text-align: center; vertical-align: top\">Iris-virginica</td>\n",
       "    </tr>\n",
       "</table>\n",
       "[3 rows x 5 columns]<br/>\n",
       "</div>"
      ],
      "text/plain": [
       "Columns:\n",
       "\tSepalLength\tfloat\n",
       "\tSepalWidth\tfloat\n",
       "\tPetalLength\tfloat\n",
       "\tPetalWidth\tfloat\n",
       "\tSpecies\tstr\n",
       "\n",
       "Rows: 3\n",
       "\n",
       "Data:\n",
       "+-------------+------------+-------------+------------+-----------------+\n",
       "| SepalLength | SepalWidth | PetalLength | PetalWidth |     Species     |\n",
       "+-------------+------------+-------------+------------+-----------------+\n",
       "|     5.0     |    3.3     |     1.4     |    0.2     |   Iris-setosa   |\n",
       "|     5.7     |    2.8     |     4.1     |    1.3     | Iris-versicolor |\n",
       "|     5.9     |    3.0     |     5.1     |    1.8     |  Iris-virginica |\n",
       "+-------------+------------+-------------+------------+-----------------+\n",
       "[3 rows x 5 columns]"
      ]
     },
     "execution_count": 3,
     "metadata": {},
     "output_type": "execute_result"
    }
   ],
   "source": [
    "test_data = tc.SFrame.read_csv(\"Iris_test.csv\")\n",
    "test_data"
   ]
  },
  {
   "cell_type": "markdown",
   "metadata": {},
   "source": [
    "# Create a model"
   ]
  },
  {
   "cell_type": "code",
   "execution_count": 4,
   "metadata": {},
   "outputs": [
    {
     "name": "stdout",
     "output_type": "stream",
     "text": [
      "PROGRESS: Creating a validation set from 5 percent of training data. This may take a while.\n",
      "          You can set ``validation_set=None`` to disable validation tracking.\n",
      "\n"
     ]
    },
    {
     "data": {
      "text/html": [
       "<pre>Decision tree classifier:</pre>"
      ],
      "text/plain": [
       "Decision tree classifier:"
      ]
     },
     "metadata": {},
     "output_type": "display_data"
    },
    {
     "data": {
      "text/html": [
       "<pre>--------------------------------------------------------</pre>"
      ],
      "text/plain": [
       "--------------------------------------------------------"
      ]
     },
     "metadata": {},
     "output_type": "display_data"
    },
    {
     "data": {
      "text/html": [
       "<pre>Number of examples          : 139</pre>"
      ],
      "text/plain": [
       "Number of examples          : 139"
      ]
     },
     "metadata": {},
     "output_type": "display_data"
    },
    {
     "data": {
      "text/html": [
       "<pre>Number of classes           : 3</pre>"
      ],
      "text/plain": [
       "Number of classes           : 3"
      ]
     },
     "metadata": {},
     "output_type": "display_data"
    },
    {
     "data": {
      "text/html": [
       "<pre>Number of feature columns   : 4</pre>"
      ],
      "text/plain": [
       "Number of feature columns   : 4"
      ]
     },
     "metadata": {},
     "output_type": "display_data"
    },
    {
     "data": {
      "text/html": [
       "<pre>Number of unpacked features : 4</pre>"
      ],
      "text/plain": [
       "Number of unpacked features : 4"
      ]
     },
     "metadata": {},
     "output_type": "display_data"
    },
    {
     "data": {
      "text/html": [
       "<pre>+-----------+--------------+-------------------+---------------------+-------------------+---------------------+</pre>"
      ],
      "text/plain": [
       "+-----------+--------------+-------------------+---------------------+-------------------+---------------------+"
      ]
     },
     "metadata": {},
     "output_type": "display_data"
    },
    {
     "data": {
      "text/html": [
       "<pre>| Iteration | Elapsed Time | Training-accuracy | Validation-accuracy | Training-log_loss | Validation-log_loss |</pre>"
      ],
      "text/plain": [
       "| Iteration | Elapsed Time | Training-accuracy | Validation-accuracy | Training-log_loss | Validation-log_loss |"
      ]
     },
     "metadata": {},
     "output_type": "display_data"
    },
    {
     "data": {
      "text/html": [
       "<pre>+-----------+--------------+-------------------+---------------------+-------------------+---------------------+</pre>"
      ],
      "text/plain": [
       "+-----------+--------------+-------------------+---------------------+-------------------+---------------------+"
      ]
     },
     "metadata": {},
     "output_type": "display_data"
    },
    {
     "data": {
      "text/html": [
       "<pre>| 1         | 0.009529     | 1.000000          | 1.000000            | 0.228966          | 0.208934            |</pre>"
      ],
      "text/plain": [
       "| 1         | 0.009529     | 1.000000          | 1.000000            | 0.228966          | 0.208934            |"
      ]
     },
     "metadata": {},
     "output_type": "display_data"
    },
    {
     "data": {
      "text/html": [
       "<pre>+-----------+--------------+-------------------+---------------------+-------------------+---------------------+</pre>"
      ],
      "text/plain": [
       "+-----------+--------------+-------------------+---------------------+-------------------+---------------------+"
      ]
     },
     "metadata": {},
     "output_type": "display_data"
    }
   ],
   "source": [
    "model = tc.decision_tree_classifier.create(train_data, \"Species\")"
   ]
  },
  {
   "cell_type": "markdown",
   "metadata": {},
   "source": [
    "# Save predictions to an SArray"
   ]
  },
  {
   "cell_type": "code",
   "execution_count": 5,
   "metadata": {},
   "outputs": [
    {
     "data": {
      "text/plain": [
       "dtype: str\n",
       "Rows: 3\n",
       "['Iris-setosa', 'Iris-versicolor', 'Iris-virginica']"
      ]
     },
     "execution_count": 5,
     "metadata": {},
     "output_type": "execute_result"
    }
   ],
   "source": [
    "predictions = model.predict(test_data)\n",
    "predictions"
   ]
  },
  {
   "cell_type": "markdown",
   "metadata": {},
   "source": [
    "# Evaluate the model and save the results into a dictionary"
   ]
  },
  {
   "cell_type": "code",
   "execution_count": 6,
   "metadata": {},
   "outputs": [
    {
     "data": {
      "text/plain": [
       "{'accuracy': 1.0, 'auc': 1.0, 'confusion_matrix': Columns:\n",
       " \ttarget_label\tstr\n",
       " \tpredicted_label\tstr\n",
       " \tcount\tint\n",
       " \n",
       " Rows: 3\n",
       " \n",
       " Data:\n",
       " +-----------------+-----------------+-------+\n",
       " |   target_label  | predicted_label | count |\n",
       " +-----------------+-----------------+-------+\n",
       " |   Iris-setosa   |   Iris-setosa   |   1   |\n",
       " | Iris-versicolor | Iris-versicolor |   1   |\n",
       " |  Iris-virginica |  Iris-virginica |   1   |\n",
       " +-----------------+-----------------+-------+\n",
       " [3 rows x 3 columns], 'f1_score': 1.0, 'log_loss': 0.20928460236345736, 'precision': 1.0, 'recall': 1.0, 'roc_curve': Columns:\n",
       " \tthreshold\tfloat\n",
       " \tfpr\tfloat\n",
       " \ttpr\tfloat\n",
       " \tp\tint\n",
       " \tn\tint\n",
       " \tclass\tint\n",
       " \n",
       " Rows: 300003\n",
       " \n",
       " Data:\n",
       " +-----------+-----+-----+---+---+-------+\n",
       " | threshold | fpr | tpr | p | n | class |\n",
       " +-----------+-----+-----+---+---+-------+\n",
       " |    0.0    | 1.0 | 1.0 | 1 | 2 |   0   |\n",
       " |   1e-05   | 1.0 | 1.0 | 1 | 2 |   0   |\n",
       " |   2e-05   | 1.0 | 1.0 | 1 | 2 |   0   |\n",
       " |   3e-05   | 1.0 | 1.0 | 1 | 2 |   0   |\n",
       " |   4e-05   | 1.0 | 1.0 | 1 | 2 |   0   |\n",
       " |   5e-05   | 1.0 | 1.0 | 1 | 2 |   0   |\n",
       " |   6e-05   | 1.0 | 1.0 | 1 | 2 |   0   |\n",
       " |   7e-05   | 1.0 | 1.0 | 1 | 2 |   0   |\n",
       " |   8e-05   | 1.0 | 1.0 | 1 | 2 |   0   |\n",
       " |   9e-05   | 1.0 | 1.0 | 1 | 2 |   0   |\n",
       " +-----------+-----+-----+---+---+-------+\n",
       " [300003 rows x 6 columns]\n",
       " Note: Only the head of the SFrame is printed.\n",
       " You can use print_rows(num_rows=m, num_columns=n) to print more rows and columns.}"
      ]
     },
     "execution_count": 6,
     "metadata": {},
     "output_type": "execute_result"
    }
   ],
   "source": [
    "results = model.evaluate(test_data)\n",
    "results"
   ]
  },
  {
   "cell_type": "markdown",
   "metadata": {},
   "source": [
    "# Save the resulting SFrame to a file"
   ]
  },
  {
   "cell_type": "code",
   "execution_count": 7,
   "metadata": {},
   "outputs": [],
   "source": [
    "model.save(\"Iris.model\")"
   ]
  },
  {
   "cell_type": "markdown",
   "metadata": {},
   "source": [
    "# Export an activity classifier model in Core ML format"
   ]
  },
  {
   "cell_type": "code",
   "execution_count": 8,
   "metadata": {},
   "outputs": [],
   "source": [
    "model.export_coreml(\"Iris.mlmodel\")"
   ]
  }
 ],
 "metadata": {
  "kernelspec": {
   "display_name": "Python 2",
   "language": "python",
   "name": "python2"
  },
  "language_info": {
   "codemirror_mode": {
    "name": "ipython",
    "version": 2
   },
   "file_extension": ".py",
   "mimetype": "text/x-python",
   "name": "python",
   "nbconvert_exporter": "python",
   "pygments_lexer": "ipython2",
   "version": "2.7.14"
  }
 },
 "nbformat": 4,
 "nbformat_minor": 2
}
